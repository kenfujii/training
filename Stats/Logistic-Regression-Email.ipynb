{
 "metadata": {
  "name": "",
  "signature": "sha256:998f5eb295cbf9ab2fa7f409e09f69d44e5b8de094fe4e4dcae6c6f01c107ee6"
 },
 "nbformat": 3,
 "nbformat_minor": 0,
 "worksheets": [
  {
   "cells": [
    {
     "cell_type": "code",
     "collapsed": false,
     "input": [
      "import numpy as np\n",
      "import pandas as pd\n",
      "import matplotlib as mpl\n",
      "import matplotlib.pyplot as plt\n",
      "import pylab\n",
      "import scipy.stats as stats\n",
      "mpl.style.available\n",
      "mpl.style.use('ggplot') \n",
      "\n",
      "%matplotlib inline "
     ],
     "language": "python",
     "metadata": {},
     "outputs": [],
     "prompt_number": 1
    },
    {
     "cell_type": "markdown",
     "metadata": {},
     "source": [
      "\n",
      "##Description\n",
      "These data represent incoming emails for the first three months of 2012 for an email account.\n",
      "##Format\n",
      "A email (email_sent) data frame has 3921 (1252) observations on the following 21 variables.\n",
      "\n",
      "spam: Indicator for whether the email was spam.\n",
      "\n",
      "to_multiple: Indicator for whether the email was addressed to more than one recipient.\n",
      "\n",
      "from: Whether the message was listed as from anyone (this is usually set by default for regular outgoing email).\n",
      "\n",
      "cc: The number of people that were CCed.\n",
      "\n",
      "sent_email: Indicator for whether the sender had been sent an email in the last 30 days.\n",
      "\n",
      "time: Time at which email was sent.\n",
      "\n",
      "image: The number of images attached.\n",
      "\n",
      "attach: The number of attached files.\n",
      "\n",
      "dollar: The number of times a dollar sign or the word \u201cdollar\u201d appeared in the email.\n",
      "\n",
      "winner: Indicates whether \u201cwinner\u201d appeared in the email.\n",
      "\n",
      "inherit: The number of times \u201cinherit\u201d (or an extension, such as \u201cinheritance\u201d) appeared in the email.\n",
      "\n",
      "viagra: The number of times \u201cviagra\u201d appeared in the email.\n",
      "\n",
      "password: The number of times \u201cpassword\u201d appeared in the email.\n",
      "\n",
      "num_char: The number of characters in the email, in thousands.\n",
      "\n",
      "line_breaks: The number of line breaks in the email (does not count text wrapping).\n",
      "\n",
      "format: Indicates whether the email was written using HTML (e.g. may have included bolding or active links).\n",
      "\n",
      "re_subj: Whether the subject started with \u201cRe:\u201d, \u201cRE:\u201d, \u201cre:\u201d, or \u201crE:\u201d\n",
      "\n",
      "exclaim_subj: Whether there was an exclamation point in the subject.\n",
      "\n",
      "urgent_subj: Whether the word \u201curgent\u201d was in the email subject.\n",
      "\n",
      "exclaim_mess: The number of exclamation points in the email message.\n",
      "\n",
      "number: Factor variable saying whether there was no number, a small number (under 1 million), or a big number."
     ]
    },
    {
     "cell_type": "markdown",
     "metadata": {},
     "source": [
      "Load email.txt on a data frame.\n"
     ]
    },
    {
     "cell_type": "code",
     "collapsed": false,
     "input": [],
     "language": "python",
     "metadata": {},
     "outputs": [],
     "prompt_number": 2
    },
    {
     "cell_type": "markdown",
     "metadata": {},
     "source": [
      "Explore the data."
     ]
    },
    {
     "cell_type": "code",
     "collapsed": false,
     "input": [],
     "language": "python",
     "metadata": {},
     "outputs": []
    },
    {
     "cell_type": "markdown",
     "metadata": {},
     "source": [
      "Explore the different types of variables  df.dtypes"
     ]
    },
    {
     "cell_type": "code",
     "collapsed": false,
     "input": [],
     "language": "python",
     "metadata": {},
     "outputs": []
    },
    {
     "cell_type": "markdown",
     "metadata": {},
     "source": [
      "Change  cc, attach, dollar, winner, inherit and password to indicator factors.\n",
      "\n",
      "**Hint:** use df[var].map(lambda function)"
     ]
    },
    {
     "cell_type": "code",
     "collapsed": false,
     "input": [],
     "language": "python",
     "metadata": {},
     "outputs": []
    },
    {
     "cell_type": "code",
     "collapsed": false,
     "input": [
      "##Set X to be the explenatory variables to_multiple, cc, attach, dollar, winner, inherit, password, format,\n",
      "##re_subj and exclaim_subj\n",
      " \n",
      "##Set y to be the respone variable spam\n",
      "\n",
      "##Set the logistic regression model\n",
      " \n",
      "logit = sm.Logit(y, X)\n",
      " \n",
      "## fit the model\n",
      "ess = logit.fit()\n",
      "##See the summary statistics\n",
      "ess.summary()"
     ],
     "language": "python",
     "metadata": {},
     "outputs": []
    },
    {
     "cell_type": "markdown",
     "metadata": {},
     "source": [
      "Apply the Backwards selection strategy to come up with the \"best\" model."
     ]
    },
    {
     "cell_type": "code",
     "collapsed": false,
     "input": [],
     "language": "python",
     "metadata": {},
     "outputs": []
    },
    {
     "cell_type": "markdown",
     "metadata": {},
     "source": [
      "Write the final logistic regression model."
     ]
    },
    {
     "cell_type": "code",
     "collapsed": false,
     "input": [],
     "language": "python",
     "metadata": {},
     "outputs": []
    },
    {
     "cell_type": "markdown",
     "metadata": {},
     "source": [
      "How will the probability change is the are dollar signs in the email?"
     ]
    },
    {
     "cell_type": "code",
     "collapsed": false,
     "input": [],
     "language": "python",
     "metadata": {},
     "outputs": []
    }
   ],
   "metadata": {}
  }
 ]
}