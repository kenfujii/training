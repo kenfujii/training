{
 "metadata": {
  "name": "",
  "signature": "sha256:87b8703d834debd741708ee8383f7c7efbfcc5e20aebbf1191b1adf8e22597b9"
 },
 "nbformat": 3,
 "nbformat_minor": 0,
 "worksheets": [
  {
   "cells": [
    {
     "cell_type": "code",
     "collapsed": false,
     "input": [
      "import pandas as pd\n",
      "import numpy as np\n",
      "import statsmodels.api as sm\n",
      "import matplotlib as mpl\n",
      "import matplotlib.pyplot as plt\n",
      "mpl.style.available\n",
      "\n",
      "mpl.style.use('ggplot') \n",
      "import pylab\n",
      "import scipy.stats as stats\n",
      "\n",
      "%matplotlib inline  "
     ],
     "language": "python",
     "metadata": {},
     "outputs": [],
     "prompt_number": 1
    },
    {
     "cell_type": "markdown",
     "metadata": {},
     "source": [
      "##Description\n",
      "Auction data from Ebay for the game Mario Kart for the Nintendo Wii. This data was collected in early October, 2009.\n",
      "##Format\n",
      "A data frame with 143 observations on the following 12 variables. All prices are in US dollars.\n",
      "\n",
      "ID Auction: ID assigned by Ebay. \n",
      "\n",
      "duration: Auction length, in days.\n",
      "\n",
      "nBids: Number of bids.\n",
      "\n",
      "cond: Game condition, either new or used. \n",
      "\n",
      "startPr: Start price of the auction. \n",
      "\n",
      "shipPr: Shipping price.\n",
      "\n",
      "totalPr: Total price, which equals the auction price plus the shipping price.\n",
      "\n",
      "\n",
      "shipSp: Shipping speed or method.\n",
      "\n",
      "sellerRate: The seller\u2019s rating on Ebay. This is the number of positive ratings minus the number of negative ratings for the seller.\n",
      "\n",
      "stockPhoto: Whether the auction feature photo was a stock photo or not. If the picture was used in many auctions, then it was called a stock photo.\n",
      "\n",
      "wheels: Number of Wii wheels included in the auction. These are steering wheel attachments to make it seem as though you are actually driving in the game. When used with the controller, turning the wheel actually causes the character on screen to turn.\n",
      "\n",
      "\n",
      "title: The title of the auctions."
     ]
    },
    {
     "cell_type": "markdown",
     "metadata": {},
     "source": [
      "Load marioKart.txt on a data frame. Use df=pd.read_table('path')"
     ]
    },
    {
     "cell_type": "code",
     "collapsed": false,
     "input": [],
     "language": "python",
     "metadata": {},
     "outputs": [],
     "prompt_number": 2
    },
    {
     "cell_type": "markdown",
     "metadata": {},
     "source": [
      "Explore the data. Use statistic summaries and graphs."
     ]
    },
    {
     "cell_type": "code",
     "collapsed": false,
     "input": [],
     "language": "python",
     "metadata": {},
     "outputs": []
    },
    {
     "cell_type": "markdown",
     "metadata": {},
     "source": [
      "Add an extra column to the dataframe. Name it cond_num"
     ]
    },
    {
     "cell_type": "markdown",
     "metadata": {},
     "source": [
      "Use a for/if loop to change variable **cond** from new,used to 1,0 respectively."
     ]
    },
    {
     "cell_type": "code",
     "collapsed": false,
     "input": [],
     "language": "python",
     "metadata": {},
     "outputs": []
    },
    {
     "cell_type": "markdown",
     "metadata": {},
     "source": [
      "Check the first lines of the data base."
     ]
    },
    {
     "cell_type": "code",
     "collapsed": false,
     "input": [],
     "language": "python",
     "metadata": {},
     "outputs": []
    },
    {
     "cell_type": "markdown",
     "metadata": {},
     "source": [
      "Produce a scatter plot for the variables cond and totalPr"
     ]
    },
    {
     "cell_type": "code",
     "collapsed": false,
     "input": [],
     "language": "python",
     "metadata": {},
     "outputs": []
    },
    {
     "cell_type": "markdown",
     "metadata": {},
     "source": [
      "Fit a line to the data, using the following steps:"
     ]
    },
    {
     "cell_type": "code",
     "collapsed": false,
     "input": [
      "##Set X to be the variable that describes the condition of the game\n",
      " \n",
      "##Set y to be the variable that describes the total price\n",
      " \n",
      "##Add a constanct for the intercept\n",
      "X = sm.add_constant(X)\n",
      " \n",
      "## fit a OLS model with intercept on shoulder girth\n",
      "est = sm.OLS(y, X).fit()\n",
      "##Get the estimated parameters of the regression line\n",
      "est.params"
     ],
     "language": "python",
     "metadata": {},
     "outputs": []
    },
    {
     "cell_type": "code",
     "collapsed": false,
     "input": [],
     "language": "python",
     "metadata": {},
     "outputs": []
    },
    {
     "cell_type": "markdown",
     "metadata": {},
     "source": [
      "Write the equation of the regression line and add it to the scatter plot."
     ]
    },
    {
     "cell_type": "code",
     "collapsed": false,
     "input": [],
     "language": "python",
     "metadata": {},
     "outputs": []
    },
    {
     "cell_type": "markdown",
     "metadata": {},
     "source": [
      "Evaluate and plot the residuals."
     ]
    },
    {
     "cell_type": "code",
     "collapsed": false,
     "input": [],
     "language": "python",
     "metadata": {},
     "outputs": []
    },
    {
     "cell_type": "markdown",
     "metadata": {},
     "source": [
      "Check for probable outliers in the graph.\n",
      "\n",
      "If there exist are they influencial?"
     ]
    },
    {
     "cell_type": "code",
     "collapsed": false,
     "input": [],
     "language": "python",
     "metadata": {},
     "outputs": []
    },
    {
     "cell_type": "markdown",
     "metadata": {},
     "source": [
      "Check the values of the outliers.\n",
      "\n",
      "Should we exclude them from the data?"
     ]
    },
    {
     "cell_type": "markdown",
     "metadata": {},
     "source": [
      "Create a new dataframe by excluding the outliers."
     ]
    },
    {
     "cell_type": "code",
     "collapsed": false,
     "input": [],
     "language": "python",
     "metadata": {},
     "outputs": []
    },
    {
     "cell_type": "markdown",
     "metadata": {},
     "source": [
      "Fit a line to the data, using the following steps:"
     ]
    },
    {
     "cell_type": "code",
     "collapsed": false,
     "input": [
      "##Set X to be the variable that describes the condition of the game\n",
      " \n",
      "##Set y to be the variable that describes the total price\n",
      " \n",
      "##Add a constanct for the intercept\n",
      "X = sm.add_constant(X)\n",
      " \n",
      "## fit a OLS model with intercept on shoulder girth\n",
      "est = sm.OLS(y, X).fit()\n",
      "##Get the estimated parameters of the regression line\n",
      "est.params"
     ],
     "language": "python",
     "metadata": {},
     "outputs": []
    },
    {
     "cell_type": "markdown",
     "metadata": {},
     "source": [
      "Write the equation of the regression line and add it to the scatter plot."
     ]
    },
    {
     "cell_type": "code",
     "collapsed": false,
     "input": [],
     "language": "python",
     "metadata": {},
     "outputs": []
    },
    {
     "cell_type": "markdown",
     "metadata": {},
     "source": [
      "Does the data satisfy the conditions to fit a line?\n",
      "\n",
      "**Reminder**\n",
      "\n",
      "*Conditions*\n",
      "1. Linearity \n",
      "2. Nearly normal residuals\n",
      "3. Constant variability"
     ]
    },
    {
     "cell_type": "code",
     "collapsed": false,
     "input": [],
     "language": "python",
     "metadata": {},
     "outputs": []
    },
    {
     "cell_type": "code",
     "collapsed": false,
     "input": [
      "Evaluate the parameters using the following statistical function"
     ],
     "language": "python",
     "metadata": {},
     "outputs": []
    },
    {
     "cell_type": "code",
     "collapsed": false,
     "input": [
      "import statsmodels.formula.api as smf\n",
      "\n",
      "# formula: response ~ predictor + predictor\n",
      "# function C() transforms categorical variables to dummy variables\n",
      "est = smf.ols(formula='totalPr~ C(cond) ', data=).fit()\n",
      "est.params"
     ],
     "language": "python",
     "metadata": {},
     "outputs": [],
     "prompt_number": 63
    },
    {
     "cell_type": "markdown",
     "metadata": {},
     "source": [
      "Are the parameters the same as the previously fitted model?\n"
     ]
    },
    {
     "cell_type": "code",
     "collapsed": false,
     "input": [],
     "language": "python",
     "metadata": {},
     "outputs": []
    },
    {
     "cell_type": "markdown",
     "metadata": {},
     "source": [
      "Run"
     ]
    },
    {
     "cell_type": "code",
     "collapsed": false,
     "input": [
      "est.summary()"
     ],
     "language": "python",
     "metadata": {},
     "outputs": []
    },
    {
     "cell_type": "markdown",
     "metadata": {},
     "source": [
      "Can you explain now, why the parameters are different?"
     ]
    },
    {
     "cell_type": "code",
     "collapsed": false,
     "input": [],
     "language": "python",
     "metadata": {},
     "outputs": []
    },
    {
     "cell_type": "markdown",
     "metadata": {},
     "source": [
      "#Multiple regression"
     ]
    },
    {
     "cell_type": "markdown",
     "metadata": {},
     "source": [
      "##Mario yet again!"
     ]
    },
    {
     "cell_type": "markdown",
     "metadata": {},
     "source": [
      "Use the new dataframe, free of outliers, to fit a **full** model, for the variables cond, stock_photo, duration and wheels."
     ]
    },
    {
     "cell_type": "code",
     "collapsed": false,
     "input": [],
     "language": "python",
     "metadata": {},
     "outputs": []
    },
    {
     "cell_type": "markdown",
     "metadata": {},
     "source": [
      "Apply the Backwards selection strategy to come up with the \"best\" model."
     ]
    },
    {
     "cell_type": "code",
     "collapsed": false,
     "input": [],
     "language": "python",
     "metadata": {},
     "outputs": []
    },
    {
     "cell_type": "markdown",
     "metadata": {},
     "source": [
      "##Does the data satisfy the conditions for a multiple regression model?\n",
      "###Reminder\n",
      "**Conditions**\n",
      "1. The residuals of the model are nearly normal\n",
      "2. the variability of the residuals is nearly constant\n",
      "3. the residuals are independent\n",
      "4. each variable is linearly related to the outcome."
     ]
    },
    {
     "cell_type": "markdown",
     "metadata": {},
     "source": [
      "Produce the respective graphs and comment on them."
     ]
    },
    {
     "cell_type": "code",
     "collapsed": false,
     "input": [],
     "language": "python",
     "metadata": {},
     "outputs": []
    }
   ],
   "metadata": {}
  }
 ]
}