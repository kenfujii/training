{
 "metadata": {
  "name": "",
  "signature": "sha256:c2d5403971230281a77206577e3a07c3270eb1f1995f2d92274a034a48606d74"
 },
 "nbformat": 3,
 "nbformat_minor": 0,
 "worksheets": [
  {
   "cells": [
    {
     "cell_type": "code",
     "collapsed": false,
     "input": [
      "import pandas as pd\n",
      "import numpy as np\n",
      "import statsmodels.api as sm\n",
      "import matplotlib as mpl\n",
      "import matplotlib.pyplot as plt\n",
      "mpl.style.available\n",
      "mpl.style.use('ggplot') \n",
      "import pylab\n",
      "import scipy.stats as stats\n",
      "\n",
      "%matplotlib inline  "
     ],
     "language": "python",
     "metadata": {},
     "outputs": [],
     "prompt_number": 12
    },
    {
     "cell_type": "markdown",
     "metadata": {},
     "source": [
      "#bdims Body measurements of 507 physically active individuals.\n",
      "\n",
      "**Description**\n",
      "Body girth measurements and skeletal diameter measurements, as well as age, weight, height and gender, are given for 507 physically active individuals - 247 men and 260 women. These data can be used to provide statistics students practice in the art of data analysis. Such analyses range from simple descriptive displays to more complicated multivariate analyses such as multiple regression and discriminant analysis.\n",
      "Usage\n",
      "data(bdims)\n",
      "**Format**\n",
      "A data frame with 507 observations on the following 25 variables.\n",
      "\n",
      "bia.di A numerical vector, respondent\u2019s biacromial diameter in centimeters.\n",
      "\n",
      "bii.di A numerical vector, respondent\u2019s biiliac diameter (pelvic breadth) in centimeters.\n",
      "\n",
      "bit.di A numerical vector, respondent\u2019s bitrochanteric diameter in centimeters.\n",
      "\n",
      "che.de A numerical vector, respondent\u2019s chest depth in centimeters, measured between spine and sternum at nipple level, mid-\n",
      "expiration.\n",
      "\n",
      "che.di A numerical vector, respondent\u2019s chest diameter in centimeters, measured at nipple level, mid-expiration.\n",
      "\n",
      "elb.di A numerical vector, respondent\u2019s elbow diameter in centimeters, measured as sum of two elbows.\n",
      "\n",
      "wri.di A numerical vector, respondent\u2019s wrist diameter in centimeters, measured as sum of two wrists.\n",
      "\n",
      "kne.di A numerical vector, respondent\u2019s knee diameter in centimeters, measured as sum of two knees.\n",
      "\n",
      "ank.di A numerical vector, respondent\u2019s ankle diameter in centimeters, measured as sum of two ankles.\n",
      "\n",
      "sho.gi Anumericalvector,respondent\u2019s shoulder girth in centimeters,measured over deltoid muscles.\n",
      "\n",
      "che.gi A numerical vector, respondent\u2019s chest girth in centimeters, measured at nipple line in males and just above breast \n",
      "tissue in females, mid-expiration.\n",
      "\n",
      "wai.gi Anumericalvector,respondent\u2019s waist girth in centimeters,measured at the narrowest part of torso below the rib cage as average of contracted and relaxed position.\n",
      "\n",
      "nav.gi A numerical vector, respondent\u2019s navel (abdominal) girth in centimeters, measured at umbilicus and iliac crest using iliac crest as a landmark.\n",
      "\n",
      "hip.gi A numerical vector, respondent\u2019s hip girth in centimeters, measured at at level of bitrochanteric diameter.\n",
      "\ufffc\n",
      "thi.gi A numerical vector, respondent\u2019s thigh girth in centimeters, measured below gluteal fold\n",
      "as the average of right and left girths.\n",
      "\n",
      "bic.gi A numerical vector, respondent\u2019s bicep girth in centimeters, measured when flexed as the average of right and left girths.\n",
      "\n",
      "for.gi A numerical vector, respondent\u2019s forearm girth in centimeters, measured when extended, palm up as the average of right and left girths.\n",
      "\n",
      "kne.gi A numerical vector, respondent\u2019s knee diameter in centimeters, measured as sum of two knees.\n",
      "\n",
      "cal.gi A numerical vector, respondent\u2019s calf maximum girth in centimeters, measured as average of right and left girths.\n",
      "\n",
      "ank.gi Anumericalvector,respondent\u2019s ankle minimum girth in centimeters,measured as average of right and left girths.\n",
      "\n",
      "wri.gi Anumericalvector,respondent\u2019s wrist minimum girth in centimeters,measured as average of right and left girths.\n",
      "\n",
      "age A numerical vector, respondent\u2019s age in years.\n",
      "\n",
      "wgt A numerical vector, respondent\u2019s weight in kilograms.\n",
      "\n",
      "hgt A numerical vector, respondent\u2019s height in centimeters.\n",
      "\n",
      "sex A categorical vector, 1 if the respondent is male, 0 if female.\n",
      "Source\n",
      "\n",
      "Heinz G, Peterson LJ, Johnson RW, Kerk CJ. 2003. Exploring Relationships in Body Dimensions. Journal of Statistics Education 11(2).\n"
     ]
    },
    {
     "cell_type": "markdown",
     "metadata": {},
     "source": [
      "Load bdmis.txt on a data frame.\n",
      "Use df=pd.read_table('path')"
     ]
    },
    {
     "cell_type": "code",
     "collapsed": false,
     "input": [],
     "language": "python",
     "metadata": {},
     "outputs": [],
     "prompt_number": 3
    },
    {
     "cell_type": "markdown",
     "metadata": {},
     "source": [
      "Explore the data."
     ]
    },
    {
     "cell_type": "code",
     "collapsed": false,
     "input": [],
     "language": "python",
     "metadata": {},
     "outputs": []
    },
    {
     "cell_type": "markdown",
     "metadata": {},
     "source": [
      "Use .value_counts() to find the number of males and females in the servey. "
     ]
    },
    {
     "cell_type": "code",
     "collapsed": false,
     "input": [],
     "language": "python",
     "metadata": {},
     "outputs": []
    },
    {
     "cell_type": "markdown",
     "metadata": {},
     "source": [
      "Produce a scatter plot of shoulder girth and height."
     ]
    },
    {
     "cell_type": "code",
     "collapsed": false,
     "input": [],
     "language": "python",
     "metadata": {},
     "outputs": []
    },
    {
     "cell_type": "markdown",
     "metadata": {},
     "source": [
      "Desribe the relationship between shoulder girth and height."
     ]
    },
    {
     "cell_type": "code",
     "collapsed": false,
     "input": [],
     "language": "python",
     "metadata": {},
     "outputs": []
    },
    {
     "cell_type": "markdown",
     "metadata": {},
     "source": [
      "Does the data satisfy the conditions to fit a line?\n",
      "\n",
      "**Reminder**\n",
      "\n",
      "*Conditions*\n",
      "1. Linearity\n",
      "2. Nearly normal residuals\n",
      "3. Constant variability"
     ]
    },
    {
     "cell_type": "code",
     "collapsed": false,
     "input": [],
     "language": "python",
     "metadata": {},
     "outputs": []
    },
    {
     "cell_type": "markdown",
     "metadata": {},
     "source": [
      "Fit a line to the data, using the following steps:"
     ]
    },
    {
     "cell_type": "code",
     "collapsed": false,
     "input": [
      "##Set X to be the variable that describes the shoulder girth \n",
      "\n",
      "##Set y to be the variable that describes the height\n",
      "\n",
      "##Add a constanct for the intercept\n",
      "X = sm.add_constant(X)\n",
      "\n",
      "## fit a OLS model with intercept on shoulder girth\n",
      "est = sm.OLS(y, X).fit()\n",
      "##Get a summary of the results\n",
      "est.summary()"
     ],
     "language": "python",
     "metadata": {},
     "outputs": []
    },
    {
     "cell_type": "markdown",
     "metadata": {},
     "source": [
      "Write the equation of the regression line."
     ]
    },
    {
     "cell_type": "code",
     "collapsed": false,
     "input": [],
     "language": "python",
     "metadata": {},
     "outputs": []
    },
    {
     "cell_type": "markdown",
     "metadata": {},
     "source": [
      "Plot the regression line on top of the scatter plot."
     ]
    },
    {
     "cell_type": "code",
     "collapsed": false,
     "input": [],
     "language": "python",
     "metadata": {},
     "outputs": []
    },
    {
     "cell_type": "markdown",
     "metadata": {},
     "source": [
      "Interpret the slope and the intercept in this context"
     ]
    },
    {
     "cell_type": "markdown",
     "metadata": {},
     "source": []
    },
    {
     "cell_type": "markdown",
     "metadata": {},
     "source": [
      "Interpret  R-square."
     ]
    },
    {
     "cell_type": "markdown",
     "metadata": {},
     "source": []
    },
    {
     "cell_type": "markdown",
     "metadata": {},
     "source": [
      "A randomly selected student from your class has a shoulder girth of 100cm. Predict the height of this student using the model."
     ]
    },
    {
     "cell_type": "code",
     "collapsed": false,
     "input": [],
     "language": "python",
     "metadata": {},
     "outputs": []
    },
    {
     "cell_type": "markdown",
     "metadata": {},
     "source": [
      "The student's height is 160cm. Calculate the residual and explain what this residual means."
     ]
    },
    {
     "cell_type": "code",
     "collapsed": false,
     "input": [],
     "language": "python",
     "metadata": {},
     "outputs": []
    },
    {
     "cell_type": "markdown",
     "metadata": {},
     "source": [
      "A one year has a shoulder girth of 56cm. Would it be appropriate to use this linear model to predict the height of this child?"
     ]
    },
    {
     "cell_type": "code",
     "collapsed": false,
     "input": [],
     "language": "python",
     "metadata": {},
     "outputs": []
    },
    {
     "cell_type": "heading",
     "level": 6,
     "metadata": {},
     "source": [
      "Weight and height."
     ]
    },
    {
     "cell_type": "markdown",
     "metadata": {},
     "source": [
      "Produce a scatter plot of height and weight."
     ]
    },
    {
     "cell_type": "code",
     "collapsed": false,
     "input": [],
     "language": "python",
     "metadata": {},
     "outputs": []
    },
    {
     "cell_type": "markdown",
     "metadata": {},
     "source": [
      "Desribe the relationship between height and weight."
     ]
    },
    {
     "cell_type": "code",
     "collapsed": false,
     "input": [],
     "language": "python",
     "metadata": {},
     "outputs": []
    },
    {
     "cell_type": "markdown",
     "metadata": {},
     "source": [
      "Fit a line to the data, using the same steps as in the previous example."
     ]
    },
    {
     "cell_type": "code",
     "collapsed": false,
     "input": [],
     "language": "python",
     "metadata": {},
     "outputs": []
    },
    {
     "cell_type": "markdown",
     "metadata": {},
     "source": [
      "Write the equation of the regression line and add it to the scatter plot."
     ]
    },
    {
     "cell_type": "code",
     "collapsed": false,
     "input": [],
     "language": "python",
     "metadata": {},
     "outputs": []
    },
    {
     "cell_type": "markdown",
     "metadata": {},
     "source": [
      "Plot the regression line on top of the scatter plot."
     ]
    },
    {
     "cell_type": "code",
     "collapsed": false,
     "input": [],
     "language": "python",
     "metadata": {},
     "outputs": []
    },
    {
     "cell_type": "markdown",
     "metadata": {},
     "source": [
      "Interpret the slope and the intercept in this context"
     ]
    },
    {
     "cell_type": "markdown",
     "metadata": {},
     "source": []
    },
    {
     "cell_type": "markdown",
     "metadata": {},
     "source": [
      "Interpret  R-square."
     ]
    },
    {
     "cell_type": "code",
     "collapsed": false,
     "input": [],
     "language": "python",
     "metadata": {},
     "outputs": []
    },
    {
     "cell_type": "markdown",
     "metadata": {},
     "source": [
      "Do the data provide strong evidence that an increase in height is associated with an increase in weight? State the null\n",
      "and alternative hypothesis, report the p-value, and state your conclusion."
     ]
    },
    {
     "cell_type": "code",
     "collapsed": false,
     "input": [],
     "language": "python",
     "metadata": {},
     "outputs": []
    },
    {
     "cell_type": "markdown",
     "metadata": {},
     "source": [
      "**Note**\n",
      "\n",
      "There exist different python libraries for liner regression. \n",
      "\n",
      "For instance, this is an alternative way to estimate the regression line and the rest of the parameters, similar to R."
     ]
    },
    {
     "cell_type": "code",
     "collapsed": false,
     "input": [
      "import statsmodels.formula.api as smf\n",
      "\n",
      "# formula: response ~ predictor + predictor\n",
      "est = smf.ols(formula='wgt~ hgt ', data=df).fit()\n"
     ],
     "language": "python",
     "metadata": {},
     "outputs": [],
     "prompt_number": 40
    },
    {
     "cell_type": "code",
     "collapsed": false,
     "input": [
      "est.summary()"
     ],
     "language": "python",
     "metadata": {},
     "outputs": []
    },
    {
     "cell_type": "markdown",
     "metadata": {},
     "source": [
      "Where we can retrive the different parameters. For instance execute the following command."
     ]
    },
    {
     "cell_type": "code",
     "collapsed": false,
     "input": [
      "est.pvalues"
     ],
     "language": "python",
     "metadata": {},
     "outputs": []
    },
    {
     "cell_type": "markdown",
     "metadata": {},
     "source": [
      "In the case we want a subset of the results, we can always costumase the results.\n",
      "\n",
      "As an example run the following code."
     ]
    },
    {
     "cell_type": "code",
     "collapsed": false,
     "input": [
      "# a utility function to only show the coeff section of summary\n",
      "from IPython.core.display import HTML\n",
      "def short_summary(est):\n",
      "    return HTML(est.summary().tables[1].as_html())\n",
      "\n",
      "short_summary(est)"
     ],
     "language": "python",
     "metadata": {},
     "outputs": []
    }
   ],
   "metadata": {}
  }
 ]
}