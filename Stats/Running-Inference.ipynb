{
 "metadata": {
  "name": "",
  "signature": "sha256:d2d5c0fc01a24818cd83d4ffadebf2684bf2b7b9fdf3e584d92d115b06eb3b43"
 },
 "nbformat": 3,
 "nbformat_minor": 0,
 "worksheets": [
  {
   "cells": [
    {
     "cell_type": "code",
     "collapsed": false,
     "input": [
      "import numpy as np\n",
      "from numpy import nan as NA\n",
      "import pandas as pd\n",
      "import matplotlib as mpl\n",
      "import matplotlib.pyplot as plt\n",
      "from pylab import *\n",
      "import random\n",
      "from scipy.stats import norm\n",
      "\n",
      "mpl.style.available\n",
      "mpl.style.use('ggplot') \n",
      "%matplotlib inline  "
     ],
     "language": "python",
     "metadata": {},
     "outputs": []
    },
    {
     "cell_type": "markdown",
     "metadata": {},
     "source": [
      "Import as a dataframe run10.txt"
     ]
    },
    {
     "cell_type": "code",
     "collapsed": false,
     "input": [],
     "language": "python",
     "metadata": {},
     "outputs": []
    },
    {
     "cell_type": "markdown",
     "metadata": {},
     "source": [
      "Explore the time variable"
     ]
    },
    {
     "cell_type": "code",
     "collapsed": false,
     "input": [],
     "language": "python",
     "metadata": {},
     "outputs": []
    },
    {
     "cell_type": "markdown",
     "metadata": {},
     "source": [
      "   Calculate the mean and standard deviation of the time of the runners. Name them population_mean and population_sd respectively. Hint: Use .mean() and .std()"
     ]
    },
    {
     "cell_type": "code",
     "collapsed": false,
     "input": [],
     "language": "python",
     "metadata": {},
     "outputs": []
    },
    {
     "cell_type": "markdown",
     "metadata": {},
     "source": [
      "Produce a histogram and a fitted density of the time variable. *Beware* of the y-axis range."
     ]
    },
    {
     "cell_type": "code",
     "collapsed": false,
     "input": [],
     "language": "python",
     "metadata": {},
     "outputs": []
    },
    {
     "cell_type": "markdown",
     "metadata": {},
     "source": [
      "Get a sample the time of 100 individuals from the data. Use random.sample(data,size of sample)"
     ]
    },
    {
     "cell_type": "code",
     "collapsed": false,
     "input": [],
     "language": "python",
     "metadata": {},
     "outputs": []
    },
    {
     "cell_type": "markdown",
     "metadata": {},
     "source": [
      "Produce a histogram and a fitted density of the time variable for the sample."
     ]
    },
    {
     "cell_type": "code",
     "collapsed": false,
     "input": [],
     "language": "python",
     "metadata": {},
     "outputs": []
    },
    {
     "cell_type": "markdown",
     "metadata": {},
     "source": [
      "Calculate the mean and standard deviation of the sample"
     ]
    },
    {
     "cell_type": "code",
     "collapsed": false,
     "input": [],
     "language": "python",
     "metadata": {},
     "outputs": []
    },
    {
     "cell_type": "markdown",
     "metadata": {},
     "source": [
      "Evaluate the lower bound of a 95% interval. Name it lower"
     ]
    },
    {
     "cell_type": "code",
     "collapsed": false,
     "input": [],
     "language": "python",
     "metadata": {},
     "outputs": []
    },
    {
     "cell_type": "markdown",
     "metadata": {},
     "source": [
      "Evaluate the upper bound of a 95% interval. Name it upper"
     ]
    },
    {
     "cell_type": "code",
     "collapsed": false,
     "input": [],
     "language": "python",
     "metadata": {},
     "outputs": []
    },
    {
     "cell_type": "markdown",
     "metadata": {},
     "source": [
      "Plot the confidence interval and the mean of the sample."
     ]
    },
    {
     "cell_type": "code",
     "collapsed": false,
     "input": [
      "# To plot a line between points (x1,y1) and (x2,y2) in Python use plt.plot((x1,x2),(y1,y2))\n",
      "# To plot a point (x,y) use plt.plot(x,y,'.')"
     ],
     "language": "python",
     "metadata": {},
     "outputs": []
    },
    {
     "cell_type": "markdown",
     "metadata": {},
     "source": [
      "Assign an empty list to the variable average, standard_error, lower, upper."
     ]
    },
    {
     "cell_type": "code",
     "collapsed": false,
     "input": [],
     "language": "python",
     "metadata": {},
     "outputs": [],
     "prompt_number": 30
    },
    {
     "cell_type": "markdown",
     "metadata": {},
     "source": [
      "Use a for loop to produce 4  samples of size 100,1000,10000,15000. For every sample calculate the average, standard_error,lower, upper and append the lists."
     ]
    },
    {
     "cell_type": "code",
     "collapsed": false,
     "input": [
      "# Creat a for loop for i in  [100,1000,10000,15000] sample sizes\n",
      "\n",
      "# Sample i observations from the time variable\n",
      "\n",
      "# Evaluate the average of the sample and append it to the average list.\n",
      "\n",
      "# Evaluate the SE of the sample and append it to the sample_SE list.\n",
      "\n",
      "# Evaluate the lower bound of a 95% confidence interval and append it to the lower list.\n",
      "\n",
      "# Evaluate the upper bound of a 95% confidence interval and append it to the upper list.\n"
     ],
     "language": "python",
     "metadata": {},
     "outputs": [],
     "prompt_number": 31
    },
    {
     "cell_type": "markdown",
     "metadata": {},
     "source": [
      "Produce a plot with the 4 different confidence intervals, their respective averages and a vertical line representing the population mean."
     ]
    },
    {
     "cell_type": "code",
     "collapsed": false,
     "input": [
      "# Use plt.figure() to initialize a plot. Play around with the figure size\n",
      "\n",
      "# Create a for loop for the 4 different samples\n",
      "\n",
      "# Plot the confidence interval of the ith sample\n",
      "\n",
      "# Plot a point for the average of the ith sample\n",
      "\n",
      "\n",
      "# Exit the for loop and plot a vertical line of the population mean\n",
      "\n",
      "\n",
      "plt.title(\"95% confidence intervals as the sample size increases\") "
     ],
     "language": "python",
     "metadata": {},
     "outputs": []
    },
    {
     "cell_type": "markdown",
     "metadata": {},
     "source": [
      "Comment on the behaviour of the confidence intervals as the sample size increases. Is this expected?"
     ]
    },
    {
     "cell_type": "code",
     "collapsed": false,
     "input": [],
     "language": "python",
     "metadata": {},
     "outputs": []
    },
    {
     "cell_type": "markdown",
     "metadata": {},
     "source": [
      "Assign an empty list to variable average,standard_error,lower, upper"
     ]
    },
    {
     "cell_type": "code",
     "collapsed": false,
     "input": [],
     "language": "python",
     "metadata": {},
     "outputs": [],
     "prompt_number": 38
    },
    {
     "cell_type": "markdown",
     "metadata": {},
     "source": [
      "Use a for loop to produce 50  samples of size 100. For every sample append the lists average, standard_error,lower, upper with the respective values."
     ]
    },
    {
     "cell_type": "code",
     "collapsed": false,
     "input": [
      "# Creat a for loop for 50 iterations\n",
      "\n",
      "# Sample 100 observations from the time variable\n",
      "\n",
      "# Evaluate the average of the sample and append it to the average list.\n",
      "\n",
      "# Evaluate the SE of the sample and append it to the sample_SE list.\n",
      "\n",
      "# Evaluate the lower bound of a 95% confidence interval and append it to the lower list.\n",
      "\n",
      "# Evaluate the upper bound of a 95% confidence interval and append it to the upper list.\n",
      "\n"
     ],
     "language": "python",
     "metadata": {},
     "outputs": [],
     "prompt_number": 39
    },
    {
     "cell_type": "markdown",
     "metadata": {},
     "source": [
      "Produce a histogram of the average."
     ]
    },
    {
     "cell_type": "code",
     "collapsed": false,
     "input": [],
     "language": "python",
     "metadata": {},
     "outputs": []
    },
    {
     "cell_type": "markdown",
     "metadata": {},
     "source": [
      "Produce a plot with the 50 different confidence intervals, their respective averages and a vertical line representing the population mean."
     ]
    },
    {
     "cell_type": "code",
     "collapsed": false,
     "input": [
      "# Use plt.figure() to initialize a plot. Play around with the figure size\n",
      "\n",
      "# Create a for loop of 50 iterations\n",
      "\n",
      "# Plot the confidence interval of the ith sample\n",
      "\n",
      "# Plot a point for the average of the ith sample\n",
      "\n",
      "\n",
      "# Exit the for loop and plot a vertical line of the population mean\n",
      "\n",
      "plt.title(\"95% confidence intervals\") \n",
      "\n",
      "    "
     ],
     "language": "python",
     "metadata": {},
     "outputs": []
    },
    {
     "cell_type": "markdown",
     "metadata": {},
     "source": [
      "Comment the on the graph that is produced."
     ]
    },
    {
     "cell_type": "code",
     "collapsed": false,
     "input": [],
     "language": "python",
     "metadata": {},
     "outputs": []
    }
   ],
   "metadata": {}
  }
 ]
}