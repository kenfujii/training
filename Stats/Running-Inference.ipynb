{
 "metadata": {
  "name": "",
  "signature": "sha256:bbfd25e3a5f81ad94a4cc7d8d24ca1e7f07f3002ef496cc386e4e8e4be48b640"
 },
 "nbformat": 3,
 "nbformat_minor": 0,
 "worksheets": [
  {
   "cells": [
    {
     "cell_type": "code",
     "collapsed": false,
     "input": [
      "import numpy as np\n",
      "from numpy import nan as NA\n",
      "import pandas as pd\n",
      "import matplotlib as mpl\n",
      "import matplotlib.pyplot as plt\n",
      "from pylab import *\n",
      "import random\n",
      "from scipy.stats import norm\n",
      "\n",
      "#mpl.style.available\n",
      "#mpl.style.use('ggplot') \n",
      "%matplotlib inline  "
     ],
     "language": "python",
     "metadata": {},
     "outputs": [],
     "prompt_number": 2
    },
    {
     "cell_type": "markdown",
     "metadata": {},
     "source": [
      "Import as a dataframe run10.txt"
     ]
    },
    {
     "cell_type": "code",
     "collapsed": false,
     "input": [
      "df=pd.read_table(\"/home/vagrant/notebooks/training/Stats/run10.txt\")\n",
      "df"
     ],
     "language": "python",
     "metadata": {},
     "outputs": [
      {
       "metadata": {},
       "output_type": "pyout",
       "prompt_number": 26,
       "text": [
        "place         int64\n",
        "time        float64\n",
        "pace        float64\n",
        "age         float64\n",
        "gender       object\n",
        "location     object\n",
        "state        object\n",
        "divPlace    float64\n",
        "divTot      float64\n",
        "dtype: object"
       ]
      }
     ],
     "prompt_number": 26
    },
    {
     "cell_type": "markdown",
     "metadata": {},
     "source": [
      "Explore the time variable"
     ]
    },
    {
     "cell_type": "code",
     "collapsed": false,
     "input": [
      "time = df['time']\n",
      "time"
     ],
     "language": "python",
     "metadata": {},
     "outputs": [
      {
       "metadata": {},
       "output_type": "pyout",
       "prompt_number": 32,
       "text": [
        "0      92.25\n",
        "1     106.35\n",
        "2      89.33\n",
        "3     113.50\n",
        "4      86.52\n",
        "5     112.30\n",
        "6     118.45\n",
        "7      95.17\n",
        "8      93.25\n",
        "9      72.37\n",
        "10     86.90\n",
        "11     84.47\n",
        "12     96.65\n",
        "13    108.93\n",
        "14    101.58\n",
        "...\n",
        "16909    102.17\n",
        "16910     71.90\n",
        "16911     86.18\n",
        "16912     79.02\n",
        "16913     81.47\n",
        "16914    123.42\n",
        "16915     87.13\n",
        "16916     83.62\n",
        "16917     98.65\n",
        "16918     91.30\n",
        "16919     64.45\n",
        "16920     96.83\n",
        "16921    103.30\n",
        "16922    122.87\n",
        "16923     93.30\n",
        "Name: time, Length: 16924, dtype: float64"
       ]
      }
     ],
     "prompt_number": 32
    },
    {
     "cell_type": "markdown",
     "metadata": {},
     "source": [
      "   Calculate the mean and standard deviation of the time of the runners. Name them population_mean and population_sd respectively. Hint: Use .mean() and .std()"
     ]
    },
    {
     "cell_type": "code",
     "collapsed": false,
     "input": [
      "population_mean = mean(time)\n",
      "population_sd = std(time)"
     ],
     "language": "python",
     "metadata": {},
     "outputs": [],
     "prompt_number": 33
    },
    {
     "cell_type": "markdown",
     "metadata": {},
     "source": [
      "Produce a histogram and a fitted density of the time variable. *Beware* of the y-axis range."
     ]
    },
    {
     "cell_type": "code",
     "collapsed": false,
     "input": [
      "time.hist(normed=True)\n",
      "time.plot(kind='kde')"
     ],
     "language": "python",
     "metadata": {},
     "outputs": [
      {
       "metadata": {},
       "output_type": "pyout",
       "prompt_number": 34,
       "text": [
        "<matplotlib.axes.AxesSubplot at 0x7feb064d4a50>"
       ]
      },
      {
       "metadata": {},
       "output_type": "display_data",
       "png": "[encoded data removed]",
       "text": [
        "<matplotlib.figure.Figure at 0x7feb065592d0>"
       ]
      }
     ],
     "prompt_number": 34
    },
    {
     "cell_type": "markdown",
     "metadata": {},
     "source": [
      "Get a sample the time of 100 individuals from the data. Use random.sample(data,size of sample)"
     ]
    },
    {
     "cell_type": "code",
     "collapsed": false,
     "input": [
      "ransamp_time = random.sample(df['time'],100)\n",
      "ransamp_time"
     ],
     "language": "python",
     "metadata": {},
     "outputs": [
      {
       "metadata": {},
       "output_type": "pyout",
       "prompt_number": 39,
       "text": [
        "[65.569999999999993,\n",
        " 115.02,\n",
        " 83.170000000000002,\n",
        " 94.420000000000002,\n",
        " 73.579999999999998,\n",
        " 94.150000000000006,\n",
        " 89.230000000000004,\n",
        " 85.269999999999996,\n",
        " 129.34999999999999,\n",
        " 113.3,\n",
        " 104.12,\n",
        " 83.620000000000005,\n",
        " 80.049999999999997,\n",
        " 80.019999999999996,\n",
        " 96.700000000000003,\n",
        " 113.31999999999999,\n",
        " 77.950000000000003,\n",
        " 96.099999999999994,\n",
        " 102.23,\n",
        " 66.219999999999999,\n",
        " 93.019999999999996,\n",
        " 101.8,\n",
        " 107.62,\n",
        " 92.680000000000007,\n",
        " 72.049999999999997,\n",
        " 120.09999999999999,\n",
        " 85.819999999999993,\n",
        " 97.269999999999996,\n",
        " 100.12,\n",
        " 95.819999999999993,\n",
        " 87.150000000000006,\n",
        " 91.400000000000006,\n",
        " 129.58000000000001,\n",
        " 116.25,\n",
        " 100.27,\n",
        " 72.219999999999999,\n",
        " 93.180000000000007,\n",
        " 65.969999999999999,\n",
        " 69.420000000000002,\n",
        " 75.25,\n",
        " 88.879999999999995,\n",
        " 62.329999999999998,\n",
        " 123.45,\n",
        " 102.98,\n",
        " 79.980000000000004,\n",
        " 113.02,\n",
        " 65.450000000000003,\n",
        " 113.52,\n",
        " 85.120000000000005,\n",
        " 102.45,\n",
        " 97.680000000000007,\n",
        " 54.549999999999997,\n",
        " 66.200000000000003,\n",
        " 87.829999999999998,\n",
        " 127.08,\n",
        " 110.97,\n",
        " 80.599999999999994,\n",
        " 105.5,\n",
        " 98.969999999999999,\n",
        " 116.3,\n",
        " 75.079999999999998,\n",
        " 100.77,\n",
        " 93.730000000000004,\n",
        " 114.18000000000001,\n",
        " 113.12,\n",
        " 92.079999999999998,\n",
        " 66.969999999999999,\n",
        " 97.599999999999994,\n",
        " 103.52,\n",
        " 95.730000000000004,\n",
        " 74.879999999999995,\n",
        " 90.599999999999994,\n",
        " 118.73,\n",
        " 77.349999999999994,\n",
        " 92.129999999999995,\n",
        " 120.22,\n",
        " 114.2,\n",
        " 82.930000000000007,\n",
        " 109.13,\n",
        " 87.230000000000004,\n",
        " 86.799999999999997,\n",
        " 78.120000000000005,\n",
        " 106.23,\n",
        " 96.849999999999994,\n",
        " 93.579999999999998,\n",
        " 81.849999999999994,\n",
        " 106.59999999999999,\n",
        " 103.55,\n",
        " 71.650000000000006,\n",
        " 113.15000000000001,\n",
        " 100.31999999999999,\n",
        " 137.33000000000001,\n",
        " 90.849999999999994,\n",
        " 94.349999999999994,\n",
        " 81.150000000000006,\n",
        " 106.98,\n",
        " 78.030000000000001,\n",
        " 112.3,\n",
        " 121.77,\n",
        " 93.719999999999999]"
       ]
      }
     ],
     "prompt_number": 39
    },
    {
     "cell_type": "markdown",
     "metadata": {},
     "source": [
      "Produce a histogram and a fitted density of the time variable for the sample."
     ]
    },
    {
     "cell_type": "code",
     "collapsed": false,
     "input": [
      "hist(ransamp_time,normed=True)\n",
      "ransamp_time.plot(kind='kde')"
     ],
     "language": "python",
     "metadata": {},
     "outputs": [
      {
       "ename": "AttributeError",
       "evalue": "'list' object has no attribute 'plot'",
       "output_type": "pyerr",
       "traceback": [
        "\u001b[1;31m---------------------------------------------------------------------------\u001b[0m\n\u001b[1;31mAttributeError\u001b[0m                            Traceback (most recent call last)",
        "\u001b[1;32m<ipython-input-40-f8822a876a73>\u001b[0m in \u001b[0;36m<module>\u001b[1;34m()\u001b[0m\n\u001b[0;32m      1\u001b[0m \u001b[0mhist\u001b[0m\u001b[1;33m(\u001b[0m\u001b[0mransamp_time\u001b[0m\u001b[1;33m,\u001b[0m\u001b[0mnormed\u001b[0m\u001b[1;33m=\u001b[0m\u001b[0mTrue\u001b[0m\u001b[1;33m)\u001b[0m\u001b[1;33m\u001b[0m\u001b[0m\n\u001b[1;32m----> 2\u001b[1;33m \u001b[0mransamp_time\u001b[0m\u001b[1;33m.\u001b[0m\u001b[0mplot\u001b[0m\u001b[1;33m(\u001b[0m\u001b[0mkind\u001b[0m\u001b[1;33m=\u001b[0m\u001b[1;34m'kde'\u001b[0m\u001b[1;33m)\u001b[0m\u001b[1;33m\u001b[0m\u001b[0m\n\u001b[0m",
        "\u001b[1;31mAttributeError\u001b[0m: 'list' object has no attribute 'plot'"
       ]
      },
      {
       "metadata": {},
       "output_type": "display_data",
       "png": "[encoded data removed]",
       "text": [
        "<matplotlib.figure.Figure at 0x7feb063be890>"
       ]
      }
     ],
     "prompt_number": 40
    },
    {
     "cell_type": "markdown",
     "metadata": {},
     "source": [
      "Calculate the mean and standard deviation of the sample"
     ]
    },
    {
     "cell_type": "code",
     "collapsed": false,
     "input": [
      "mean_ransam = sum(time)/len(time)\n",
      "sd_ransam = std(time)"
     ],
     "language": "python",
     "metadata": {},
     "outputs": [],
     "prompt_number": 79
    },
    {
     "cell_type": "markdown",
     "metadata": {},
     "source": [
      "Evaluate the lower bound of a 95% interval. Name it lower"
     ]
    },
    {
     "cell_type": "code",
     "collapsed": false,
     "input": [
      "lower = mean_ransam - 2*sd_ransam\n",
      "lower"
     ],
     "language": "python",
     "metadata": {},
     "outputs": [
      {
       "metadata": {},
       "output_type": "pyout",
       "prompt_number": 83,
       "text": [
        "62.672991767069874"
       ]
      }
     ],
     "prompt_number": 83
    },
    {
     "cell_type": "markdown",
     "metadata": {},
     "source": [
      "Evaluate the upper bound of a 95% interval. Name it upper"
     ]
    },
    {
     "cell_type": "code",
     "collapsed": false,
     "input": [
      "upper = mean_ransam + 2*sd_ransam\n",
      "upper"
     ],
     "language": "python",
     "metadata": {},
     "outputs": [
      {
       "metadata": {},
       "output_type": "pyout",
       "prompt_number": 82,
       "text": [
        "126.28864956626347"
       ]
      }
     ],
     "prompt_number": 82
    },
    {
     "cell_type": "markdown",
     "metadata": {},
     "source": [
      "Plot the confidence interval and the mean of the sample."
     ]
    },
    {
     "cell_type": "code",
     "collapsed": false,
     "input": [
      "# To plot a line between points (x1,y1) and (x2,y2) in Python use plt.plot((x1,x2),(y1,y2))\n",
      "# To plot a point (x,y) use plt.plot(x,y,'.')\n",
      "\n",
      "hist(ransamp_time,normed=True)\n",
      "plt.plot((lower,upper),(0.015,0.015))\n",
      "plt.plot(mean,0.015,'.',color='red')\n",
      "\n"
     ],
     "language": "python",
     "metadata": {},
     "outputs": [
      {
       "metadata": {},
       "output_type": "pyout",
       "prompt_number": 93,
       "text": [
        "[<matplotlib.lines.Line2D at 0x7feb05cb6890>]"
       ]
      },
      {
       "metadata": {},
       "output_type": "display_data",
       "png": "[encoded data removed]",
       "text": [
        "<matplotlib.figure.Figure at 0x7feb06268ed0>"
       ]
      }
     ],
     "prompt_number": 93
    },
    {
     "cell_type": "markdown",
     "metadata": {},
     "source": [
      "Assign an empty list to the variable average, standard_error, lower, upper."
     ]
    },
    {
     "cell_type": "code",
     "collapsed": false,
     "input": [
      "average = []\n",
      "standard_error=[]\n",
      "lower = []\n",
      "upper = []"
     ],
     "language": "python",
     "metadata": {},
     "outputs": [],
     "prompt_number": 57
    },
    {
     "cell_type": "markdown",
     "metadata": {},
     "source": [
      "Use a for loop to produce 4  samples of size 100,1000,10000,15000. For every sample calculate the average, standard_error,lower, upper and append the lists."
     ]
    },
    {
     "cell_type": "code",
     "collapsed": false,
     "input": [
      "# Creat a for loop for i in  [100,1000,10000,15000] sample sizes\n",
      "for i in [100,1000,10000,15000]:\n",
      "    # Sample i observations from the time variable\n",
      "    time = random.sample(df['time'], i)\n",
      "    # Evaluate the average of the sample and append it to the average list.\n",
      "    avg_time = sum(time)/len(time)\n",
      "    average.append(avg_time)\n",
      "    # Evaluate the SE of the sample and append it to the sample_SE list.\n",
      "    sd_error_time = std(time)\n",
      "    standard_error.append(sd_error_time)\n",
      "    # Evaluate the lower bound of a 95% confidence interval and append it to the lower list.\n",
      "    lower.append(avg_time - 2*sd_error_time)\n",
      "    # Evaluate the upper bound of a 95% confidence interval and append it to the upper list.\n",
      "    upper.append(avg_time + 2*sd_error_time)\n"
     ],
     "language": "python",
     "metadata": {},
     "outputs": [],
     "prompt_number": 118
    },
    {
     "cell_type": "markdown",
     "metadata": {},
     "source": [
      "Produce a plot with the 4 different confidence intervals, their respective averages and a vertical line representing the population mean."
     ]
    },
    {
     "cell_type": "code",
     "collapsed": false,
     "input": [
      "# Use plt.figure() to initialize a plot. Play around with the figure size\n",
      "\n",
      "# Create a for loop for the 4 different samples\n",
      "\n",
      "# Plot the confidence interval of the ith sample\n",
      "\n",
      "# Plot a point for the average of the ith sample\n",
      "\n",
      "\n",
      "# Exit the for loop and plot a vertical line of the population mean\n",
      "\n",
      "\n",
      "plt.title(\"95% confidence intervals as the sample size increases\") "
     ],
     "language": "python",
     "metadata": {},
     "outputs": [
      {
       "metadata": {},
       "output_type": "pyout",
       "prompt_number": 120,
       "text": [
        "<matplotlib.text.Text at 0x7feb057814d0>"
       ]
      },
      {
       "metadata": {},
       "output_type": "display_data",
       "png": "[encoded data removed]",
       "text": [
        "<matplotlib.figure.Figure at 0x7feb05a27c10>"
       ]
      }
     ],
     "prompt_number": 120
    },
    {
     "cell_type": "markdown",
     "metadata": {},
     "source": [
      "Comment on the behaviour of the confidence intervals as the sample size increases. Is this expected?"
     ]
    },
    {
     "cell_type": "code",
     "collapsed": false,
     "input": [],
     "language": "python",
     "metadata": {},
     "outputs": []
    },
    {
     "cell_type": "markdown",
     "metadata": {},
     "source": [
      "Assign an empty list to variable average,standard_error,lower, upper"
     ]
    },
    {
     "cell_type": "code",
     "collapsed": false,
     "input": [
      "average = []\n",
      "standard_error = []\n",
      "lower = []\n",
      "upper = []"
     ],
     "language": "python",
     "metadata": {},
     "outputs": [],
     "prompt_number": 58
    },
    {
     "cell_type": "markdown",
     "metadata": {},
     "source": [
      "Use a for loop to produce 50  samples of size 100. For every sample append the lists average, standard_error,lower, upper with the respective values."
     ]
    },
    {
     "cell_type": "code",
     "collapsed": false,
     "input": [
      "# Creat a for loop for 50 iterations\n",
      "\n",
      "# Sample 100 observations from the time variable\n",
      "\n",
      "# Evaluate the average of the sample and append it to the average list.\n",
      "\n",
      "# Evaluate the SE of the sample and append it to the sample_SE list.\n",
      "\n",
      "# Evaluate the lower bound of a 95% confidence interval and append it to the lower list.\n",
      "\n",
      "# Evaluate the upper bound of a 95% confidence interval and append it to the upper list.\n",
      "\n"
     ],
     "language": "python",
     "metadata": {},
     "outputs": [],
     "prompt_number": 39
    },
    {
     "cell_type": "markdown",
     "metadata": {},
     "source": [
      "Produce a histogram of the average."
     ]
    },
    {
     "cell_type": "code",
     "collapsed": false,
     "input": [],
     "language": "python",
     "metadata": {},
     "outputs": []
    },
    {
     "cell_type": "markdown",
     "metadata": {},
     "source": [
      "Produce a plot with the 50 different confidence intervals, their respective averages and a vertical line representing the population mean."
     ]
    },
    {
     "cell_type": "code",
     "collapsed": false,
     "input": [
      "# Use plt.figure() to initialize a plot. Play around with the figure size\n",
      "\n",
      "# Create a for loop of 50 iterations\n",
      "\n",
      "# Plot the confidence interval of the ith sample\n",
      "\n",
      "# Plot a point for the average of the ith sample\n",
      "\n",
      "\n",
      "# Exit the for loop and plot a vertical line of the population mean\n",
      "\n",
      "plt.title(\"95% confidence intervals\") \n",
      "\n",
      "    "
     ],
     "language": "python",
     "metadata": {},
     "outputs": [
      {
       "metadata": {},
       "output_type": "pyout",
       "prompt_number": 119,
       "text": [
        "<matplotlib.text.Text at 0x7feb059b3d10>"
       ]
      },
      {
       "metadata": {},
       "output_type": "display_data",
       "png": "[encoded data removed]",
       "text": [
        "<matplotlib.figure.Figure at 0x7feb0595c290>"
       ]
      }
     ],
     "prompt_number": 119
    },
    {
     "cell_type": "markdown",
     "metadata": {},
     "source": [
      "Comment the on the graph that is produced."
     ]
    },
    {
     "cell_type": "code",
     "collapsed": false,
     "input": [],
     "language": "python",
     "metadata": {},
     "outputs": []
    }
   ],
   "metadata": {}
  }
 ]
}