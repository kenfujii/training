{
 "metadata": {
  "name": "",
  "signature": "sha256:812a783e27f531260ef824d544462d99a2209c7ac25c924d9af7b4a541e78824"
 },
 "nbformat": 3,
 "nbformat_minor": 0,
 "worksheets": [
  {
   "cells": [
    {
     "cell_type": "code",
     "collapsed": false,
     "input": [
      "import numpy as np\n",
      "from numpy import nan as NA\n",
      "import pandas as pd\n",
      "import matplotlib as mpl\n",
      "import matplotlib.pyplot as plt\n",
      "from pylab import *\n",
      "import random\n",
      "from scipy.stats import norm\n",
      "\n",
      "#mpl.style.available\n",
      "#mpl.style.use('ggplot') \n",
      "%matplotlib inline  "
     ],
     "language": "python",
     "metadata": {},
     "outputs": [],
     "prompt_number": 2
    },
    {
     "cell_type": "markdown",
     "metadata": {},
     "source": [
      "Import as a dataframe run10.txt"
     ]
    },
    {
     "cell_type": "code",
     "collapsed": false,
     "input": [
      "df=pd.read_table('/home/vagrant/notebooks/training/Stats/run10.txt')"
     ],
     "language": "python",
     "metadata": {},
     "outputs": [],
     "prompt_number": 3
    },
    {
     "cell_type": "markdown",
     "metadata": {},
     "source": [
      "Explore the time variable"
     ]
    },
    {
     "cell_type": "code",
     "collapsed": false,
     "input": [
      "df['time']"
     ],
     "language": "python",
     "metadata": {},
     "outputs": [
      {
       "metadata": {},
       "output_type": "pyout",
       "prompt_number": 6,
       "text": [
        "0      92.25\n",
        "1     106.35\n",
        "2      89.33\n",
        "3     113.50\n",
        "4      86.52\n",
        "5     112.30\n",
        "6     118.45\n",
        "7      95.17\n",
        "8      93.25\n",
        "9      72.37\n",
        "10     86.90\n",
        "11     84.47\n",
        "12     96.65\n",
        "13    108.93\n",
        "14    101.58\n",
        "...\n",
        "16909    102.17\n",
        "16910     71.90\n",
        "16911     86.18\n",
        "16912     79.02\n",
        "16913     81.47\n",
        "16914    123.42\n",
        "16915     87.13\n",
        "16916     83.62\n",
        "16917     98.65\n",
        "16918     91.30\n",
        "16919     64.45\n",
        "16920     96.83\n",
        "16921    103.30\n",
        "16922    122.87\n",
        "16923     93.30\n",
        "Name: time, Length: 16924, dtype: float64"
       ]
      }
     ],
     "prompt_number": 6
    },
    {
     "cell_type": "markdown",
     "metadata": {},
     "source": [
      "   Calculate the mean and standard deviation of the time of the runners. Name them population_mean and population_sd respectively. Hint: Use .mean() and .std()"
     ]
    },
    {
     "cell_type": "code",
     "collapsed": false,
     "input": [
      "df.head()\n",
      "mean = df.time.mean()\n",
      "std = df.time.std()\n",
      "print mean,' ',std"
     ],
     "language": "python",
     "metadata": {},
     "outputs": [
      {
       "output_type": "stream",
       "stream": "stdout",
       "text": [
        "94.5191922713   15.9271567142\n"
       ]
      }
     ],
     "prompt_number": 8
    },
    {
     "cell_type": "markdown",
     "metadata": {},
     "source": [
      "Produce a histogram and a fitted density of the time variable. *Beware* of the y-axis range."
     ]
    },
    {
     "cell_type": "code",
     "collapsed": false,
     "input": [
      "time = df['time']\n",
      "plt.hist(time,normed=True)\n",
      "time.plot(kind='kde')"
     ],
     "language": "python",
     "metadata": {},
     "outputs": [
      {
       "ename": "NameError",
       "evalue": "name 'df' is not defined",
       "output_type": "pyerr",
       "traceback": [
        "\u001b[1;31m---------------------------------------------------------------------------\u001b[0m\n\u001b[1;31mNameError\u001b[0m                                 Traceback (most recent call last)",
        "\u001b[1;32m<ipython-input-1-2ce879142f9d>\u001b[0m in \u001b[0;36m<module>\u001b[1;34m()\u001b[0m\n\u001b[1;32m----> 1\u001b[1;33m \u001b[0mtime\u001b[0m \u001b[1;33m=\u001b[0m \u001b[0mdf\u001b[0m\u001b[1;33m[\u001b[0m\u001b[1;34m'time'\u001b[0m\u001b[1;33m]\u001b[0m\u001b[1;33m\u001b[0m\u001b[0m\n\u001b[0m\u001b[0;32m      2\u001b[0m \u001b[0mplt\u001b[0m\u001b[1;33m.\u001b[0m\u001b[0mhist\u001b[0m\u001b[1;33m(\u001b[0m\u001b[0mtime\u001b[0m\u001b[1;33m,\u001b[0m\u001b[0mnormed\u001b[0m\u001b[1;33m=\u001b[0m\u001b[0mTrue\u001b[0m\u001b[1;33m)\u001b[0m\u001b[1;33m\u001b[0m\u001b[0m\n\u001b[0;32m      3\u001b[0m \u001b[0mtime\u001b[0m\u001b[1;33m.\u001b[0m\u001b[0mplot\u001b[0m\u001b[1;33m(\u001b[0m\u001b[0mkind\u001b[0m\u001b[1;33m=\u001b[0m\u001b[1;34m'kde'\u001b[0m\u001b[1;33m)\u001b[0m\u001b[1;33m\u001b[0m\u001b[0m\n",
        "\u001b[1;31mNameError\u001b[0m: name 'df' is not defined"
       ]
      }
     ],
     "prompt_number": 1
    },
    {
     "cell_type": "markdown",
     "metadata": {},
     "source": [
      "Get a sample the time of 100 individuals from the data. Use random.sample(data,size of sample)"
     ]
    },
    {
     "cell_type": "code",
     "collapsed": false,
     "input": [
      "samtime = random.sample(df['time'],100)"
     ],
     "language": "python",
     "metadata": {},
     "outputs": [],
     "prompt_number": 18
    },
    {
     "cell_type": "markdown",
     "metadata": {},
     "source": [
      "Produce a histogram and a fitted density of the time variable for the sample."
     ]
    },
    {
     "cell_type": "code",
     "collapsed": false,
     "input": [
      "plt.hist(samtime,normed=True)\n",
      "series = pd.Series(samtime)\n",
      "series.plot(kind='kde')"
     ],
     "language": "python",
     "metadata": {},
     "outputs": [
      {
       "metadata": {},
       "output_type": "pyout",
       "prompt_number": 20,
       "text": [
        "<matplotlib.axes.AxesSubplot at 0x7f300c3a7410>"
       ]
      },
      {
       "metadata": {},
       "output_type": "display_data",
       "png": "[encoded data removed]",
       "text": [
        "<matplotlib.figure.Figure at 0x7f300c076f50>"
       ]
      }
     ],
     "prompt_number": 20
    },
    {
     "cell_type": "markdown",
     "metadata": {},
     "source": [
      "Calculate the mean and standard deviation of the sample"
     ]
    },
    {
     "cell_type": "code",
     "collapsed": false,
     "input": [
      "std = series.std()\n",
      "mean = series.mean()\n",
      "print series.mean(),std"
     ],
     "language": "python",
     "metadata": {},
     "outputs": [
      {
       "output_type": "stream",
       "stream": "stdout",
       "text": [
        "95.7353 15.8156198494\n"
       ]
      }
     ],
     "prompt_number": 22
    },
    {
     "cell_type": "markdown",
     "metadata": {},
     "source": [
      "Evaluate the lower bound of a 95% interval. Name it lower"
     ]
    },
    {
     "cell_type": "code",
     "collapsed": false,
     "input": [
      "lower = series.mean()-1.96*(std/sqrt(100))\n",
      "print lower"
     ],
     "language": "python",
     "metadata": {},
     "outputs": [
      {
       "output_type": "stream",
       "stream": "stdout",
       "text": [
        "94.1425843286\n"
       ]
      }
     ],
     "prompt_number": 35
    },
    {
     "cell_type": "markdown",
     "metadata": {},
     "source": [
      "Evaluate the upper bound of a 95% interval. Name it upper"
     ]
    },
    {
     "cell_type": "code",
     "collapsed": false,
     "input": [
      "upper = series.mean()+1.96*(std/sqrt(100))\n",
      "print upper"
     ],
     "language": "python",
     "metadata": {},
     "outputs": [
      {
       "output_type": "stream",
       "stream": "stdout",
       "text": [
        "97.3280156714\n"
       ]
      }
     ],
     "prompt_number": 34
    },
    {
     "cell_type": "markdown",
     "metadata": {},
     "source": [
      "Plot the confidence interval and the mean of the sample."
     ]
    },
    {
     "cell_type": "code",
     "collapsed": false,
     "input": [
      "# To plot a line between points (x1,y1) and (x2,y2) in Python use plt.plot((x1,x2),(y1,y2))\n",
      "# To plot a point (x,y) use plt.plot(x,y,'.')\n",
      "plt.plot((lower,upper),(0,0))\n",
      "plt.plot(lower,0,'.')\n",
      "plt.plot(upper,0,'.')\n",
      "plt.plot(mean,0,'.')"
     ],
     "language": "python",
     "metadata": {},
     "outputs": [
      {
       "metadata": {},
       "output_type": "pyout",
       "prompt_number": 45,
       "text": [
        "[<matplotlib.lines.Line2D at 0x7f300b436cd0>]"
       ]
      },
      {
       "metadata": {},
       "output_type": "display_data",
       "png": "[encoded data removed]",
       "text": [
        "<matplotlib.figure.Figure at 0x7f300bb535d0>"
       ]
      }
     ],
     "prompt_number": 45
    },
    {
     "cell_type": "markdown",
     "metadata": {},
     "source": [
      "Assign an empty list to the variable average, standard_error, lower, upper."
     ]
    },
    {
     "cell_type": "code",
     "collapsed": false,
     "input": [
      "lsmean = []\n",
      "lsstd = []\n",
      "lslower = []\n",
      "lsupper =[]"
     ],
     "language": "python",
     "metadata": {},
     "outputs": [],
     "prompt_number": 41
    },
    {
     "cell_type": "markdown",
     "metadata": {},
     "source": [
      "Use a for loop to produce 4  samples of size 100,1000,10000,15000. For every sample calculate the average, standard_error,lower, upper and append the lists."
     ]
    },
    {
     "cell_type": "code",
     "collapsed": false,
     "input": [
      "# Creat a for loop for i in  [100,1000,10000,15000] sample sizes\n",
      "\n",
      "# Sample i observations from the time variable\n",
      "\n",
      "# Evaluate the average of the sample and append it to the average list.\n",
      "\n",
      "# Evaluate the SE of the sample and append it to the sample_SE list.\n",
      "\n",
      "# Evaluate the lower bound of a 95% confidence interval and append it to the lower list.\n",
      "\n",
      "# Evaluate the upper bound of a 95% confidence interval and append it to the upper list.\n",
      "\n",
      "for i in [100,1000,10000,15000]:\n",
      "    samtime = random.sample(df['time'],i)\n",
      "    series = pd.Series(samtime)\n",
      "    mean = series.mean()\n",
      "    std = series.std()\n",
      "    lower = mean-1.96*(std/sqrt(i))\n",
      "    upper = mean+1.96*(std/sqrt(i))\n",
      "    lsmean.append(mean)\n",
      "    lsstd.append(std)\n",
      "    lslower.append(lower)\n",
      "    lsupper.append(upper)\n"
     ],
     "language": "python",
     "metadata": {},
     "outputs": [],
     "prompt_number": 54
    },
    {
     "cell_type": "markdown",
     "metadata": {},
     "source": [
      "Produce a plot with the 4 different confidence intervals, their respective averages and a vertical line representing the population mean."
     ]
    },
    {
     "cell_type": "code",
     "collapsed": false,
     "input": [
      "# Use plt.figure() to initialize a plot. Play around with the figure size\n",
      "plt.figure()\n",
      "# Create a for loop for the 4 different samples\n",
      "\n",
      "# Plot the confidence interval of the ith sample\n",
      "\n",
      "# Plot a point for the average of the ith sample\n",
      "\n",
      "\n",
      "# Exit the for loop and plot a vertical line of the population mean\n",
      "mpop=0\n",
      "for i  in range(len(lsmean)):\n",
      "    plt.plot((lslower[i],lsupper[i]),(i,i))\n",
      "    plt.plot(lslower[i],i,'.')\n",
      "    plt.plot(lsupper[i],i,'.')\n",
      "    plt.plot(lsmean[i],i,'.')\n",
      "    mpop +=lsmean[i]\n",
      "mpop=mpop/len(lsmean)\n",
      "plt.plot((mpop,mpop),(10,0))\n",
      "plt.title(\"95% confidence intervals as the sample size increases\") "
     ],
     "language": "python",
     "metadata": {},
     "outputs": [
      {
       "metadata": {},
       "output_type": "pyout",
       "prompt_number": 60,
       "text": [
        "<matplotlib.text.Text at 0x7f300a9cd810>"
       ]
      },
      {
       "metadata": {},
       "output_type": "display_data",
       "png": "[encoded data removed]",
       "text": [
        "<matplotlib.figure.Figure at 0x7f300abaed50>"
       ]
      }
     ],
     "prompt_number": 60
    },
    {
     "cell_type": "markdown",
     "metadata": {},
     "source": [
      "Comment on the behaviour of the confidence intervals as the sample size increases. Is this expected?"
     ]
    },
    {
     "cell_type": "code",
     "collapsed": false,
     "input": [],
     "language": "python",
     "metadata": {},
     "outputs": []
    },
    {
     "cell_type": "markdown",
     "metadata": {},
     "source": [
      "Assign an empty list to variable average,standard_error,lower, upper"
     ]
    },
    {
     "cell_type": "code",
     "collapsed": false,
     "input": [
      "lsmean = []\n",
      "lsstd = []\n",
      "lslower = []\n",
      "lsupper =[]"
     ],
     "language": "python",
     "metadata": {},
     "outputs": [],
     "prompt_number": 67
    },
    {
     "cell_type": "markdown",
     "metadata": {},
     "source": [
      "Use a for loop to produce 50  samples of size 100. For every sample append the lists average, standard_error,lower, upper with the respective values."
     ]
    },
    {
     "cell_type": "code",
     "collapsed": false,
     "input": [
      "# Creat a for loop for 50 iterations\n",
      "\n",
      "# Sample 100 observations from the time variable\n",
      "\n",
      "# Evaluate the average of the sample and append it to the average list.\n",
      "\n",
      "# Evaluate the SE of the sample and append it to the sample_SE list.\n",
      "\n",
      "# Evaluate the lower bound of a 95% confidence interval and append it to the lower list.\n",
      "\n",
      "# Evaluate the upper bound of a 95% confidence interval and append it to the upper list.\n",
      "\n",
      "for i in range(50):\n",
      "    samtime = random.sample(df['time'],100)\n",
      "    series = pd.Series(samtime)\n",
      "    mean = series.mean()\n",
      "    std = series.std()\n",
      "    lower = mean-1.96*(std/sqrt(100))\n",
      "    upper = mean+1.96*(std/sqrt(100))\n",
      "    lsmean.append(mean)\n",
      "    lsstd.append(std)\n",
      "    lslower.append(lower)\n",
      "    lsupper.append(upper)\n",
      "print len(lsmean)"
     ],
     "language": "python",
     "metadata": {},
     "outputs": [
      {
       "output_type": "stream",
       "stream": "stdout",
       "text": [
        "50\n"
       ]
      }
     ],
     "prompt_number": 68
    },
    {
     "cell_type": "markdown",
     "metadata": {},
     "source": [
      "Produce a histogram of the average."
     ]
    },
    {
     "cell_type": "code",
     "collapsed": false,
     "input": [
      "plt.hist(lsmean)\n"
     ],
     "language": "python",
     "metadata": {},
     "outputs": [
      {
       "metadata": {},
       "output_type": "pyout",
       "prompt_number": 69,
       "text": [
        "(array([  3.,   4.,   4.,   8.,  10.,   9.,   5.,   2.,   2.,   3.]),\n",
        " array([ 90.9975 ,  91.74658,  92.49566,  93.24474,  93.99382,  94.7429 ,\n",
        "         95.49198,  96.24106,  96.99014,  97.73922,  98.4883 ]),\n",
        " <a list of 10 Patch objects>)"
       ]
      },
      {
       "metadata": {},
       "output_type": "display_data",
       "png": "[encoded data removed]",
       "text": [
        "<matplotlib.figure.Figure at 0x7f300a8c2f50>"
       ]
      }
     ],
     "prompt_number": 69
    },
    {
     "cell_type": "markdown",
     "metadata": {},
     "source": [
      "Produce a plot with the 50 different confidence intervals, their respective averages and a vertical line representing the population mean."
     ]
    },
    {
     "cell_type": "code",
     "collapsed": false,
     "input": [
      "# Use plt.figure() to initialize a plot. Play around with the figure size\n",
      "\n",
      "# Create a for loop of 50 iterations\n",
      "\n",
      "# Plot the confidence interval of the ith sample\n",
      "\n",
      "# Plot a point for the average of the ith sample\n",
      "\n",
      "\n",
      "# Exit the for loop and plot a vertical line of the population mean\n",
      "\n",
      "mpop=0\n",
      "for i  in range(len(lsmean)):\n",
      "    plt.plot((lslower[i],lsupper[i]),(i,i))\n",
      "    plt.plot(lslower[i],i,'.')\n",
      "    plt.plot(lsupper[i],i,'.')\n",
      "    plt.plot(lsmean[i],i,'.')\n",
      "    mpop +=lsmean[i]\n",
      "mpop=mpop/len(lsmean)\n",
      "print len(lsmean)\n",
      "plt.plot((mpop,mpop),(10,0))\n",
      "plt.title(\"95% confidence intervals\") \n",
      "\n",
      "    "
     ],
     "language": "python",
     "metadata": {},
     "outputs": [
      {
       "output_type": "stream",
       "stream": "stdout",
       "text": [
        "50\n"
       ]
      },
      {
       "metadata": {},
       "output_type": "pyout",
       "prompt_number": 70,
       "text": [
        "<matplotlib.text.Text at 0x7f300a457890>"
       ]
      },
      {
       "metadata": {},
       "output_type": "display_data",
       "png": "[encoded data removed]",
       "text": [
        "<matplotlib.figure.Figure at 0x7f300bf28490>"
       ]
      }
     ],
     "prompt_number": 70
    },
    {
     "cell_type": "markdown",
     "metadata": {},
     "source": [
      "Comment the on the graph that is produced."
     ]
    },
    {
     "cell_type": "code",
     "collapsed": false,
     "input": [],
     "language": "python",
     "metadata": {},
     "outputs": []
    }
   ],
   "metadata": {}
  }
 ]
}