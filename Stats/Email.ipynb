{
 "metadata": {
  "name": "",
  "signature": "sha256:e8d47d868215fbf930304265b893524f60dd62e758de5b21cd57ace1ead4fbdc"
 },
 "nbformat": 3,
 "nbformat_minor": 0,
 "worksheets": [
  {
   "cells": [
    {
     "cell_type": "heading",
     "level": 1,
     "metadata": {},
     "source": [
      "Import relevant libraries"
     ]
    },
    {
     "cell_type": "code",
     "collapsed": false,
     "input": [
      "import numpy as np\n",
      "import pandas as pd\n",
      "import matplotlib as mpl\n",
      "import matplotlib.pyplot as plt\n",
      "import pylab\n",
      "import scipy.stats as stats\n",
      "mpl.style.available\n",
      "mpl.style.use('ggplot') \n",
      "%matplotlib inline "
     ],
     "language": "python",
     "metadata": {},
     "outputs": [],
     "prompt_number": 9
    },
    {
     "cell_type": "markdown",
     "metadata": {},
     "source": [
      "\n",
      "##Description\n",
      "These data represent incoming emails for the first three months of 2012 for an email account.\n",
      "##Format\n",
      "A email (email_sent) data frame has 3921 (1252) observations on the following 21 variables.\n",
      "\n",
      "spam: Indicator for whether the email was spam.\n",
      "\n",
      "to_multiple: Indicator for whether the email was addressed to more than one recipient.\n",
      "\n",
      "from: Whether the message was listed as from anyone (this is usually set by default for regular outgoing email).\n",
      "\n",
      "cc: The number of people that were CCed.\n",
      "\n",
      "sent_email: Indicator for whether the sender had been sent an email in the last 30 days.\n",
      "\n",
      "time: Time at which email was sent.\n",
      "\n",
      "image: The number of images attached.\n",
      "\n",
      "attach: The number of attached files.\n",
      "\n",
      "dollar: The number of times a dollar sign or the word \u201cdollar\u201d appeared in the email.\n",
      "\n",
      "winner: Indicates whether \u201cwinner\u201d appeared in the email.\n",
      "\n",
      "inherit: The number of times \u201cinherit\u201d (or an extension, such as \u201cinheritance\u201d) appeared in the email.\n",
      "\n",
      "viagra: The number of times \u201cviagra\u201d appeared in the email.\n",
      "\n",
      "password: The number of times \u201cpassword\u201d appeared in the email.\n",
      "\n",
      "num_char: The number of characters in the email, in thousands.\n",
      "\n",
      "line_breaks: The number of line breaks in the email (does not count text wrapping).\n",
      "\n",
      "format: Indicates whether the email was written using HTML (e.g. may have included bolding or active links).\n",
      "\n",
      "re_subj: Whether the subject started with \u201cRe:\u201d, \u201cRE:\u201d, \u201cre:\u201d, or \u201crE:\u201d\n",
      "\n",
      "exclaim_subj: Whether there was an exclamation point in the subject.\n",
      "\n",
      "urgent_subj: Whether the word \u201curgent\u201d was in the email subject.\n",
      "\n",
      "exclaim_mess: The number of exclamation points in the email message.\n",
      "\n",
      "number: Factor variable saying whether there was no number, a small number (under 1 million), or a big number."
     ]
    },
    {
     "cell_type": "markdown",
     "metadata": {},
     "source": [
      "Load email.txt on a data frame.\n",
      "Use df=pd.read_table('path')"
     ]
    },
    {
     "cell_type": "code",
     "collapsed": false,
     "input": [],
     "language": "python",
     "metadata": {},
     "outputs": []
    },
    {
     "cell_type": "markdown",
     "metadata": {},
     "source": [
      "Explore the first lines of the data by using df.head()"
     ]
    },
    {
     "cell_type": "code",
     "collapsed": false,
     "input": [],
     "language": "python",
     "metadata": {},
     "outputs": []
    },
    {
     "cell_type": "markdown",
     "metadata": {},
     "source": [
      "Explore the different types of variables  df.dtypes"
     ]
    },
    {
     "cell_type": "code",
     "collapsed": false,
     "input": [],
     "language": "python",
     "metadata": {},
     "outputs": []
    },
    {
     "cell_type": "markdown",
     "metadata": {},
     "source": [
      "Print the values of the num_char variable. Hint: in order to select a variable from a data base use df.variable or df['variable']."
     ]
    },
    {
     "cell_type": "code",
     "collapsed": false,
     "input": [],
     "language": "python",
     "metadata": {},
     "outputs": []
    },
    {
     "cell_type": "markdown",
     "metadata": {},
     "source": [
      "Use  .describe() to get a summary on num_char"
     ]
    },
    {
     "cell_type": "code",
     "collapsed": false,
     "input": [],
     "language": "python",
     "metadata": {},
     "outputs": []
    },
    {
     "cell_type": "markdown",
     "metadata": {},
     "source": [
      "Use plt.scatter() to plot the scatter plot of num_char and line_breaks"
     ]
    },
    {
     "cell_type": "code",
     "collapsed": false,
     "input": [],
     "language": "python",
     "metadata": {},
     "outputs": []
    },
    {
     "cell_type": "markdown",
     "metadata": {},
     "source": [
      "Describe the relationship between the two variables."
     ]
    },
    {
     "cell_type": "code",
     "collapsed": false,
     "input": [],
     "language": "python",
     "metadata": {},
     "outputs": [],
     "prompt_number": 15
    },
    {
     "cell_type": "markdown",
     "metadata": {},
     "source": [
      "Use  .hist() to get a histogram on num_char"
     ]
    },
    {
     "cell_type": "code",
     "collapsed": false,
     "input": [],
     "language": "python",
     "metadata": {},
     "outputs": []
    },
    {
     "cell_type": "markdown",
     "metadata": {},
     "source": [
      "Take the log of num_char, by using np.log "
     ]
    },
    {
     "cell_type": "code",
     "collapsed": false,
     "input": [],
     "language": "python",
     "metadata": {},
     "outputs": []
    },
    {
     "cell_type": "markdown",
     "metadata": {},
     "source": [
      "Produce a histogram of the log values"
     ]
    },
    {
     "cell_type": "code",
     "collapsed": false,
     "input": [],
     "language": "python",
     "metadata": {},
     "outputs": []
    },
    {
     "cell_type": "markdown",
     "metadata": {},
     "source": [
      "Add the option normed=True in .hist to take a normalised historgram"
     ]
    },
    {
     "cell_type": "code",
     "collapsed": false,
     "input": [],
     "language": "python",
     "metadata": {},
     "outputs": []
    },
    {
     "cell_type": "markdown",
     "metadata": {},
     "source": [
      "Describe the distribution of log(num_char)"
     ]
    },
    {
     "cell_type": "code",
     "collapsed": false,
     "input": [],
     "language": "python",
     "metadata": {},
     "outputs": [],
     "prompt_number": 19
    },
    {
     "cell_type": "markdown",
     "metadata": {},
     "source": [
      "Use .plot(kind='kde') to get a fitted distribution of log(num_char)"
     ]
    },
    {
     "cell_type": "code",
     "collapsed": false,
     "input": [],
     "language": "python",
     "metadata": {},
     "outputs": []
    },
    {
     "cell_type": "markdown",
     "metadata": {},
     "source": [
      "Put the histogram and the fitted distribution code to see a combined graph."
     ]
    },
    {
     "cell_type": "code",
     "collapsed": false,
     "input": [],
     "language": "python",
     "metadata": {},
     "outputs": []
    },
    {
     "cell_type": "markdown",
     "metadata": {},
     "source": [
      "Use stats.probplot(Variable,plot=pylab) to make the probability graph of log(num_char)."
     ]
    },
    {
     "cell_type": "code",
     "collapsed": false,
     "input": [],
     "language": "python",
     "metadata": {},
     "outputs": []
    },
    {
     "cell_type": "markdown",
     "metadata": {},
     "source": [
      "Is log(num_char) normaly distributed? Justify your answer."
     ]
    },
    {
     "cell_type": "code",
     "collapsed": false,
     "input": [],
     "language": "python",
     "metadata": {},
     "outputs": [],
     "prompt_number": 22
    },
    {
     "cell_type": "markdown",
     "metadata": {},
     "source": [
      "Produce a frequency table for the number of spam and no spam emails using .value_counts(). \n",
      "Name it spam_freq."
     ]
    },
    {
     "cell_type": "code",
     "collapsed": false,
     "input": [],
     "language": "python",
     "metadata": {},
     "outputs": []
    },
    {
     "cell_type": "markdown",
     "metadata": {},
     "source": [
      "Produce a bar plot of the previous results by using .plot(kind='bar')"
     ]
    },
    {
     "cell_type": "code",
     "collapsed": false,
     "input": [],
     "language": "python",
     "metadata": {},
     "outputs": []
    },
    {
     "cell_type": "markdown",
     "metadata": {},
     "source": [
      "Produce a pivot table for spam and number variables using pd.crosstab(Variable1,Variable2) and name it pivot_table."
     ]
    },
    {
     "cell_type": "code",
     "collapsed": false,
     "input": [],
     "language": "python",
     "metadata": {},
     "outputs": []
    },
    {
     "cell_type": "markdown",
     "metadata": {},
     "source": [
      "Produce a bar plot for the table"
     ]
    },
    {
     "cell_type": "code",
     "collapsed": false,
     "input": [],
     "language": "python",
     "metadata": {},
     "outputs": []
    },
    {
     "cell_type": "markdown",
     "metadata": {},
     "source": [
      "Produce frequency table by normalising the columns, i.e. use 'Name of your talbe'.div('Name of your talbe'.sum(1).astype(float),axis=0), and name it pivot_freq."
     ]
    },
    {
     "cell_type": "code",
     "collapsed": false,
     "input": [],
     "language": "python",
     "metadata": {},
     "outputs": []
    },
    {
     "cell_type": "markdown",
     "metadata": {},
     "source": [
      "Produce a bar plot from the frequency table."
     ]
    },
    {
     "cell_type": "code",
     "collapsed": false,
     "input": [],
     "language": "python",
     "metadata": {},
     "outputs": []
    },
    {
     "cell_type": "markdown",
     "metadata": {},
     "source": [
      "Add stacked=True to the arguments of the barplot. Compare the graphs."
     ]
    },
    {
     "cell_type": "code",
     "collapsed": false,
     "input": [],
     "language": "python",
     "metadata": {},
     "outputs": []
    }
   ],
   "metadata": {}
  }
 ]
}