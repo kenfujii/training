{
 "metadata": {
  "name": "",
  "signature": "sha256:79f01ad0c8b6605486191f947bea6eded7b974434b4a7ea5ebb41891dfb12faf"
 },
 "nbformat": 3,
 "nbformat_minor": 0,
 "worksheets": [
  {
   "cells": [
    {
     "cell_type": "code",
     "collapsed": false,
     "input": [
      "import pandas as pd\n",
      "import numpy as np\n",
      "import statsmodels.api as sm\n",
      "import matplotlib as mpl\n",
      "import matplotlib.pyplot as plt\n",
      "#mpl.style.available\n",
      "#mpl.style.use('ggplot') \n",
      "import pylab\n",
      "import scipy.stats as stats\n",
      "\n",
      "%matplotlib inline  "
     ],
     "language": "python",
     "metadata": {},
     "outputs": [],
     "prompt_number": 13
    },
    {
     "cell_type": "markdown",
     "metadata": {},
     "source": [
      "##Description\n",
      "Auction data from Ebay for the game Mario Kart for the Nintendo Wii. This data was collected in early October, 2009.\n",
      "##Format\n",
      "A data frame with 143 observations on the following 12 variables. All prices are in US dollars.\n",
      "\n",
      "ID Auction: ID assigned by Ebay. \n",
      "\n",
      "duration: Auction length, in days.\n",
      "\n",
      "nBids: Number of bids.\n",
      "\n",
      "cond: Game condition, either new or used. \n",
      "\n",
      "startPr: Start price of the auction. \n",
      "\n",
      "shipPr: Shipping price.\n",
      "\n",
      "totalPr: Total price, which equals the auction price plus the shipping price.\n",
      "\n",
      "\n",
      "shipSp: Shipping speed or method.\n",
      "\n",
      "sellerRate: The seller\u2019s rating on Ebay. This is the number of positive ratings minus the number of negative ratings for the seller.\n",
      "\n",
      "stockPhoto: Whether the auction feature photo was a stock photo or not. If the picture was used in many auctions, then it was called a stock photo.\n",
      "\n",
      "wheels: Number of Wii wheels included in the auction. These are steering wheel attachments to make it seem as though you are actually driving in the game. When used with the controller, turning the wheel actually causes the character on screen to turn.\n",
      "\n",
      "\n",
      "title: The title of the auctions."
     ]
    },
    {
     "cell_type": "markdown",
     "metadata": {},
     "source": [
      "Load marioKart.txt on a data frame. Use df=pd.read_table('path')"
     ]
    },
    {
     "cell_type": "code",
     "collapsed": false,
     "input": [
      "df=pd.read_table('marioKart.txt')"
     ],
     "language": "python",
     "metadata": {},
     "outputs": [],
     "prompt_number": 14
    },
    {
     "cell_type": "markdown",
     "metadata": {},
     "source": [
      "Explore the data. Use statistic summaries and graphs."
     ]
    },
    {
     "cell_type": "code",
     "collapsed": false,
     "input": [
      "df.head()\n",
      "#df.dtypes\n",
      "#df.describe()"
     ],
     "language": "python",
     "metadata": {},
     "outputs": [
      {
       "html": [
        "<div style=\"max-height:1000px;max-width:1500px;overflow:auto;\">\n",
        "<table border=\"1\" class=\"dataframe\">\n",
        "  <thead>\n",
        "    <tr style=\"text-align: right;\">\n",
        "      <th></th>\n",
        "      <th>ID</th>\n",
        "      <th>duration</th>\n",
        "      <th>nBids</th>\n",
        "      <th>cond</th>\n",
        "      <th>startPr</th>\n",
        "      <th>shipPr</th>\n",
        "      <th>totalPr</th>\n",
        "      <th>shipSp</th>\n",
        "      <th>sellerRate</th>\n",
        "      <th>stockPhoto</th>\n",
        "      <th>wheels</th>\n",
        "      <th>title</th>\n",
        "    </tr>\n",
        "  </thead>\n",
        "  <tbody>\n",
        "    <tr>\n",
        "      <th>0</th>\n",
        "      <td> 150377422259</td>\n",
        "      <td> 3</td>\n",
        "      <td> 20</td>\n",
        "      <td>  new</td>\n",
        "      <td> 0.99</td>\n",
        "      <td> 4.00</td>\n",
        "      <td> 51.55</td>\n",
        "      <td>   standard</td>\n",
        "      <td> 1580</td>\n",
        "      <td> yes</td>\n",
        "      <td> 1</td>\n",
        "      <td> ~~ Wii MARIO KART &amp;amp; WHEEL ~ NINTENDO Wii ~...</td>\n",
        "    </tr>\n",
        "    <tr>\n",
        "      <th>1</th>\n",
        "      <td> 260483376854</td>\n",
        "      <td> 7</td>\n",
        "      <td> 13</td>\n",
        "      <td> used</td>\n",
        "      <td> 0.99</td>\n",
        "      <td> 3.99</td>\n",
        "      <td> 37.04</td>\n",
        "      <td> firstClass</td>\n",
        "      <td>  365</td>\n",
        "      <td> yes</td>\n",
        "      <td> 1</td>\n",
        "      <td> Mariokart Wii Nintendo with wheel - Mario Kart...</td>\n",
        "    </tr>\n",
        "    <tr>\n",
        "      <th>2</th>\n",
        "      <td> 320432342985</td>\n",
        "      <td> 3</td>\n",
        "      <td> 16</td>\n",
        "      <td>  new</td>\n",
        "      <td> 0.99</td>\n",
        "      <td> 3.50</td>\n",
        "      <td> 45.50</td>\n",
        "      <td> firstClass</td>\n",
        "      <td>  998</td>\n",
        "      <td>  no</td>\n",
        "      <td> 1</td>\n",
        "      <td>                              Mario Kart Wii (Wii)</td>\n",
        "    </tr>\n",
        "    <tr>\n",
        "      <th>3</th>\n",
        "      <td> 280405224677</td>\n",
        "      <td> 3</td>\n",
        "      <td> 18</td>\n",
        "      <td>  new</td>\n",
        "      <td> 0.99</td>\n",
        "      <td> 0.00</td>\n",
        "      <td> 44.00</td>\n",
        "      <td>   standard</td>\n",
        "      <td>    7</td>\n",
        "      <td> yes</td>\n",
        "      <td> 1</td>\n",
        "      <td> Brand New Mario Kart Wii Comes with Wheel. Fre...</td>\n",
        "    </tr>\n",
        "    <tr>\n",
        "      <th>4</th>\n",
        "      <td> 170392227765</td>\n",
        "      <td> 1</td>\n",
        "      <td> 20</td>\n",
        "      <td>  new</td>\n",
        "      <td> 0.01</td>\n",
        "      <td> 0.00</td>\n",
        "      <td> 71.00</td>\n",
        "      <td>      media</td>\n",
        "      <td>  820</td>\n",
        "      <td> yes</td>\n",
        "      <td> 2</td>\n",
        "      <td> BRAND NEW NINTENDO 1 WII MARIO KART WITH 2 WHE...</td>\n",
        "    </tr>\n",
        "  </tbody>\n",
        "</table>\n",
        "</div>"
       ],
       "metadata": {},
       "output_type": "pyout",
       "prompt_number": 15,
       "text": [
        "             ID  duration  nBids  cond  startPr  shipPr  totalPr      shipSp  \\\n",
        "0  150377422259         3     20   new     0.99    4.00    51.55    standard   \n",
        "1  260483376854         7     13  used     0.99    3.99    37.04  firstClass   \n",
        "2  320432342985         3     16   new     0.99    3.50    45.50  firstClass   \n",
        "3  280405224677         3     18   new     0.99    0.00    44.00    standard   \n",
        "4  170392227765         1     20   new     0.01    0.00    71.00       media   \n",
        "\n",
        "   sellerRate stockPhoto  wheels  \\\n",
        "0        1580        yes       1   \n",
        "1         365        yes       1   \n",
        "2         998         no       1   \n",
        "3           7        yes       1   \n",
        "4         820        yes       2   \n",
        "\n",
        "                                               title  \n",
        "0  ~~ Wii MARIO KART &amp; WHEEL ~ NINTENDO Wii ~...  \n",
        "1  Mariokart Wii Nintendo with wheel - Mario Kart...  \n",
        "2                               Mario Kart Wii (Wii)  \n",
        "3  Brand New Mario Kart Wii Comes with Wheel. Fre...  \n",
        "4  BRAND NEW NINTENDO 1 WII MARIO KART WITH 2 WHE...  "
       ]
      }
     ],
     "prompt_number": 15
    },
    {
     "cell_type": "markdown",
     "metadata": {},
     "source": [
      "Add an extra column to the dataframe. Name it cond_num"
     ]
    },
    {
     "cell_type": "markdown",
     "metadata": {},
     "source": [
      "Use a for/if loop to change variable **cond** from new,used to 1,0 respectively."
     ]
    },
    {
     "cell_type": "code",
     "collapsed": false,
     "input": [
      "length = np.size(df)\n",
      "df['cond_num']=\"\"\n",
      "for i in range(len(df['cond'])):\n",
      "    if (df['cond'][i] =='new'):\n",
      "      df['cond_num'][i]=1\n",
      "    else:\n",
      "      df['cond_num'][i]=0\n"
     ],
     "language": "python",
     "metadata": {},
     "outputs": [],
     "prompt_number": 16
    },
    {
     "cell_type": "markdown",
     "metadata": {},
     "source": [
      "Check the first lines of the data base."
     ]
    },
    {
     "cell_type": "code",
     "collapsed": false,
     "input": [
      "df.head()"
     ],
     "language": "python",
     "metadata": {},
     "outputs": [
      {
       "html": [
        "<div style=\"max-height:1000px;max-width:1500px;overflow:auto;\">\n",
        "<table border=\"1\" class=\"dataframe\">\n",
        "  <thead>\n",
        "    <tr style=\"text-align: right;\">\n",
        "      <th></th>\n",
        "      <th>ID</th>\n",
        "      <th>duration</th>\n",
        "      <th>nBids</th>\n",
        "      <th>cond</th>\n",
        "      <th>startPr</th>\n",
        "      <th>shipPr</th>\n",
        "      <th>totalPr</th>\n",
        "      <th>shipSp</th>\n",
        "      <th>sellerRate</th>\n",
        "      <th>stockPhoto</th>\n",
        "      <th>wheels</th>\n",
        "      <th>title</th>\n",
        "      <th>cond_num</th>\n",
        "    </tr>\n",
        "  </thead>\n",
        "  <tbody>\n",
        "    <tr>\n",
        "      <th>0</th>\n",
        "      <td> 150377422259</td>\n",
        "      <td> 3</td>\n",
        "      <td> 20</td>\n",
        "      <td>  new</td>\n",
        "      <td> 0.99</td>\n",
        "      <td> 4.00</td>\n",
        "      <td> 51.55</td>\n",
        "      <td>   standard</td>\n",
        "      <td> 1580</td>\n",
        "      <td> yes</td>\n",
        "      <td> 1</td>\n",
        "      <td> ~~ Wii MARIO KART &amp;amp; WHEEL ~ NINTENDO Wii ~...</td>\n",
        "      <td> 1</td>\n",
        "    </tr>\n",
        "    <tr>\n",
        "      <th>1</th>\n",
        "      <td> 260483376854</td>\n",
        "      <td> 7</td>\n",
        "      <td> 13</td>\n",
        "      <td> used</td>\n",
        "      <td> 0.99</td>\n",
        "      <td> 3.99</td>\n",
        "      <td> 37.04</td>\n",
        "      <td> firstClass</td>\n",
        "      <td>  365</td>\n",
        "      <td> yes</td>\n",
        "      <td> 1</td>\n",
        "      <td> Mariokart Wii Nintendo with wheel - Mario Kart...</td>\n",
        "      <td> 0</td>\n",
        "    </tr>\n",
        "    <tr>\n",
        "      <th>2</th>\n",
        "      <td> 320432342985</td>\n",
        "      <td> 3</td>\n",
        "      <td> 16</td>\n",
        "      <td>  new</td>\n",
        "      <td> 0.99</td>\n",
        "      <td> 3.50</td>\n",
        "      <td> 45.50</td>\n",
        "      <td> firstClass</td>\n",
        "      <td>  998</td>\n",
        "      <td>  no</td>\n",
        "      <td> 1</td>\n",
        "      <td>                              Mario Kart Wii (Wii)</td>\n",
        "      <td> 1</td>\n",
        "    </tr>\n",
        "    <tr>\n",
        "      <th>3</th>\n",
        "      <td> 280405224677</td>\n",
        "      <td> 3</td>\n",
        "      <td> 18</td>\n",
        "      <td>  new</td>\n",
        "      <td> 0.99</td>\n",
        "      <td> 0.00</td>\n",
        "      <td> 44.00</td>\n",
        "      <td>   standard</td>\n",
        "      <td>    7</td>\n",
        "      <td> yes</td>\n",
        "      <td> 1</td>\n",
        "      <td> Brand New Mario Kart Wii Comes with Wheel. Fre...</td>\n",
        "      <td> 1</td>\n",
        "    </tr>\n",
        "    <tr>\n",
        "      <th>4</th>\n",
        "      <td> 170392227765</td>\n",
        "      <td> 1</td>\n",
        "      <td> 20</td>\n",
        "      <td>  new</td>\n",
        "      <td> 0.01</td>\n",
        "      <td> 0.00</td>\n",
        "      <td> 71.00</td>\n",
        "      <td>      media</td>\n",
        "      <td>  820</td>\n",
        "      <td> yes</td>\n",
        "      <td> 2</td>\n",
        "      <td> BRAND NEW NINTENDO 1 WII MARIO KART WITH 2 WHE...</td>\n",
        "      <td> 1</td>\n",
        "    </tr>\n",
        "  </tbody>\n",
        "</table>\n",
        "</div>"
       ],
       "metadata": {},
       "output_type": "pyout",
       "prompt_number": 17,
       "text": [
        "             ID  duration  nBids  cond  startPr  shipPr  totalPr      shipSp  \\\n",
        "0  150377422259         3     20   new     0.99    4.00    51.55    standard   \n",
        "1  260483376854         7     13  used     0.99    3.99    37.04  firstClass   \n",
        "2  320432342985         3     16   new     0.99    3.50    45.50  firstClass   \n",
        "3  280405224677         3     18   new     0.99    0.00    44.00    standard   \n",
        "4  170392227765         1     20   new     0.01    0.00    71.00       media   \n",
        "\n",
        "   sellerRate stockPhoto  wheels  \\\n",
        "0        1580        yes       1   \n",
        "1         365        yes       1   \n",
        "2         998         no       1   \n",
        "3           7        yes       1   \n",
        "4         820        yes       2   \n",
        "\n",
        "                                               title cond_num  \n",
        "0  ~~ Wii MARIO KART &amp; WHEEL ~ NINTENDO Wii ~...        1  \n",
        "1  Mariokart Wii Nintendo with wheel - Mario Kart...        0  \n",
        "2                               Mario Kart Wii (Wii)        1  \n",
        "3  Brand New Mario Kart Wii Comes with Wheel. Fre...        1  \n",
        "4  BRAND NEW NINTENDO 1 WII MARIO KART WITH 2 WHE...        1  "
       ]
      }
     ],
     "prompt_number": 17
    },
    {
     "cell_type": "markdown",
     "metadata": {},
     "source": [
      "Produce a scatter plot for the variables cond and totalPr"
     ]
    },
    {
     "cell_type": "code",
     "collapsed": false,
     "input": [
      "plt.scatter(df.cond_num, df.totalPr)"
     ],
     "language": "python",
     "metadata": {},
     "outputs": [
      {
       "metadata": {},
       "output_type": "pyout",
       "prompt_number": 18,
       "text": [
        "<matplotlib.collections.PathCollection at 0x7f82739582d0>"
       ]
      },
      {
       "metadata": {},
       "output_type": "display_data",
       "png": "[encoded data removed]",
       "text": [
        "<matplotlib.figure.Figure at 0x7f82739f5f50>"
       ]
      }
     ],
     "prompt_number": 18
    },
    {
     "cell_type": "markdown",
     "metadata": {},
     "source": [
      "Fit a line to the data, using the following steps:"
     ]
    },
    {
     "cell_type": "code",
     "collapsed": false,
     "input": [
      "##Set X to be the variable that describes the condition of the game\n",
      "X = np.array(df.cond_num)\n",
      "##Set y to be the variable that describes the total price\n",
      "y = np.array(df.totalPr)\n",
      "##Add a constanct for the intercept\n",
      "dX = sm.add_constant(X)\n",
      "\n",
      "## fit a OLS model with intercept on shoulder girth\n",
      "est = sm.OLS(y, dX).fit()\n",
      "##Get the estimated parameters of the regression line\n",
      "est.params"
     ],
     "language": "python",
     "metadata": {},
     "outputs": [
      {
       "metadata": {},
       "output_type": "pyout",
       "prompt_number": 47,
       "text": [
        "array([ 47.14809524,   6.62258273])"
       ]
      }
     ],
     "prompt_number": 47
    },
    {
     "cell_type": "code",
     "collapsed": false,
     "input": [
      "regLine = est.params[0]+(est.params[1]*X)"
     ],
     "language": "python",
     "metadata": {},
     "outputs": [],
     "prompt_number": 48
    },
    {
     "cell_type": "markdown",
     "metadata": {},
     "source": [
      "Write the equation of the regression line and add it to the scatter plot."
     ]
    },
    {
     "cell_type": "code",
     "collapsed": false,
     "input": [
      "plt.scatter(df.cond_num, df.totalPr)\n",
      "r1 = est.params[0]+est.params[1]*X\n",
      "plt.plot(X, r1)\n"
     ],
     "language": "python",
     "metadata": {},
     "outputs": [
      {
       "metadata": {},
       "output_type": "pyout",
       "prompt_number": 49,
       "text": [
        "[<matplotlib.lines.Line2D at 0x7f827390ff90>]"
       ]
      },
      {
       "metadata": {},
       "output_type": "display_data",
       "png": "[encoded data removed]",
       "text": [
        "<matplotlib.figure.Figure at 0x7f82736db650>"
       ]
      }
     ],
     "prompt_number": 49
    },
    {
     "cell_type": "markdown",
     "metadata": {},
     "source": [
      "Evaluate and plot the residuals."
     ]
    },
    {
     "cell_type": "code",
     "collapsed": false,
     "input": [
      "residuals=[]\n",
      "residuals = np.subtract(y, r1)"
     ],
     "language": "python",
     "metadata": {},
     "outputs": [],
     "prompt_number": 50
    },
    {
     "cell_type": "markdown",
     "metadata": {},
     "source": [
      "Check for probable outliers in the graph.\n",
      "\n",
      "If there exist are they influencial?"
     ]
    },
    {
     "cell_type": "code",
     "collapsed": false,
     "input": [],
     "language": "python",
     "metadata": {},
     "outputs": []
    },
    {
     "cell_type": "markdown",
     "metadata": {},
     "source": [
      "Check the values of the outliers.\n",
      "\n",
      "Should we exclude them from the data?"
     ]
    },
    {
     "cell_type": "markdown",
     "metadata": {},
     "source": [
      "Create a new dataframe by excluding the outliers."
     ]
    },
    {
     "cell_type": "code",
     "collapsed": false,
     "input": [
      "df=pd.DataFrame({'Data':np.random.normal(size=200)})  #example dataset of normally distributed data. \n",
      "df[np.abs(df.Data-df.Data.mean())<=(3*df.Data.std())] #keep only the ones that are within +3 to -3 standard deviations in the column 'Data'.\n",
      "df[~(np.abs(df.Data-df.Data.mean())>(3*df.Data.std()))] "
     ],
     "language": "python",
     "metadata": {},
     "outputs": []
    },
    {
     "cell_type": "markdown",
     "metadata": {},
     "source": [
      "Fit a line to the data, using the following steps:"
     ]
    },
    {
     "cell_type": "code",
     "collapsed": false,
     "input": [
      "##Set X to be the variable that describes the condition of the game\n",
      " \n",
      "##Set y to be the variable that describes the total price\n",
      " \n",
      "##Add a constanct for the intercept\n",
      "X = sm.add_constant(X)\n",
      " \n",
      "## fit a OLS model with intercept on shoulder girth\n",
      "est = sm.OLS(y, X).fit()\n",
      "##Get the estimated parameters of the regression line\n",
      "est.params"
     ],
     "language": "python",
     "metadata": {},
     "outputs": []
    },
    {
     "cell_type": "markdown",
     "metadata": {},
     "source": [
      "Write the equation of the regression line and add it to the scatter plot."
     ]
    },
    {
     "cell_type": "code",
     "collapsed": false,
     "input": [],
     "language": "python",
     "metadata": {},
     "outputs": []
    },
    {
     "cell_type": "markdown",
     "metadata": {},
     "source": [
      "Does the data satisfy the conditions to fit a line?\n",
      "\n",
      "**Reminder**\n",
      "\n",
      "*Conditions*\n",
      "1. Linearity \n",
      "2. Nearly normal residuals\n",
      "3. Constant variability"
     ]
    },
    {
     "cell_type": "code",
     "collapsed": false,
     "input": [],
     "language": "python",
     "metadata": {},
     "outputs": []
    },
    {
     "cell_type": "code",
     "collapsed": false,
     "input": [
      "Evaluate the parameters using the following statistical function"
     ],
     "language": "python",
     "metadata": {},
     "outputs": []
    },
    {
     "cell_type": "code",
     "collapsed": false,
     "input": [
      "import statsmodels.formula.api as smf\n",
      "\n",
      "# formula: response ~ predictor + predictor\n",
      "# function C() transforms categorical variables to dummy variables\n",
      "est = smf.ols(formula='totalPr~ C(cond) ', data=).fit()\n",
      "est.params"
     ],
     "language": "python",
     "metadata": {},
     "outputs": [],
     "prompt_number": 63
    },
    {
     "cell_type": "markdown",
     "metadata": {},
     "source": [
      "Are the parameters the same as the previously fitted model?\n"
     ]
    },
    {
     "cell_type": "code",
     "collapsed": false,
     "input": [],
     "language": "python",
     "metadata": {},
     "outputs": []
    },
    {
     "cell_type": "markdown",
     "metadata": {},
     "source": [
      "Run"
     ]
    },
    {
     "cell_type": "code",
     "collapsed": false,
     "input": [
      "est.summary()"
     ],
     "language": "python",
     "metadata": {},
     "outputs": []
    },
    {
     "cell_type": "markdown",
     "metadata": {},
     "source": [
      "Can you explain now, why the parameters are different?"
     ]
    },
    {
     "cell_type": "code",
     "collapsed": false,
     "input": [],
     "language": "python",
     "metadata": {},
     "outputs": []
    },
    {
     "cell_type": "markdown",
     "metadata": {},
     "source": [
      "#Multiple regression"
     ]
    },
    {
     "cell_type": "markdown",
     "metadata": {},
     "source": [
      "##Mario yet again!"
     ]
    },
    {
     "cell_type": "markdown",
     "metadata": {},
     "source": [
      "Use the new dataframe, free of outliers, to fit a **full** model, for the variables cond, stock_photo, duration and wheels."
     ]
    },
    {
     "cell_type": "code",
     "collapsed": false,
     "input": [],
     "language": "python",
     "metadata": {},
     "outputs": []
    },
    {
     "cell_type": "markdown",
     "metadata": {},
     "source": [
      "Apply the Backwards selection strategy to come up with the \"best\" model."
     ]
    },
    {
     "cell_type": "code",
     "collapsed": false,
     "input": [],
     "language": "python",
     "metadata": {},
     "outputs": []
    },
    {
     "cell_type": "markdown",
     "metadata": {},
     "source": [
      "##Does the data satisfy the conditions for a multiple regression model?\n",
      "###Reminder\n",
      "**Conditions**\n",
      "1. The residuals of the model are nearly normal\n",
      "2. the variability of the residuals is nearly constant\n",
      "3. the residuals are independent\n",
      "4. each variable is linearly related to the outcome."
     ]
    },
    {
     "cell_type": "markdown",
     "metadata": {},
     "source": [
      "Produce the respective graphs and comment on them."
     ]
    },
    {
     "cell_type": "code",
     "collapsed": false,
     "input": [],
     "language": "python",
     "metadata": {},
     "outputs": []
    }
   ],
   "metadata": {}
  }
 ]
}