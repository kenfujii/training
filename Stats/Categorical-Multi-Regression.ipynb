{
 "metadata": {
  "name": "",
  "signature": "sha256:e79266aac3f583495014de4e9329f5d2f930e924ad5edcfddec6391e14087ae6"
 },
 "nbformat": 3,
 "nbformat_minor": 0,
 "worksheets": [
  {
   "cells": [
    {
     "cell_type": "code",
     "collapsed": false,
     "input": [
      "import pandas as pd\n",
      "import numpy as np\n",
      "import statsmodels.api as sm\n",
      "import matplotlib as mpl\n",
      "import matplotlib.pyplot as plt\n",
      "#mpl.style.available\n",
      "#mpl.style.use('ggplot') \n",
      "import pylab\n",
      "import scipy.stats as stats\n",
      "\n",
      "%matplotlib inline  "
     ],
     "language": "python",
     "metadata": {},
     "outputs": [],
     "prompt_number": 2
    },
    {
     "cell_type": "markdown",
     "metadata": {},
     "source": [
      "##Description\n",
      "Auction data from Ebay for the game Mario Kart for the Nintendo Wii. This data was collected in early October, 2009.\n",
      "##Format\n",
      "A data frame with 143 observations on the following 12 variables. All prices are in US dollars.\n",
      "\n",
      "ID Auction: ID assigned by Ebay. \n",
      "\n",
      "duration: Auction length, in days.\n",
      "\n",
      "nBids: Number of bids.\n",
      "\n",
      "cond: Game condition, either new or used. \n",
      "\n",
      "startPr: Start price of the auction. \n",
      "\n",
      "shipPr: Shipping price.\n",
      "\n",
      "totalPr: Total price, which equals the auction price plus the shipping price.\n",
      "\n",
      "\n",
      "shipSp: Shipping speed or method.\n",
      "\n",
      "sellerRate: The seller\u2019s rating on Ebay. This is the number of positive ratings minus the number of negative ratings for the seller.\n",
      "\n",
      "stockPhoto: Whether the auction feature photo was a stock photo or not. If the picture was used in many auctions, then it was called a stock photo.\n",
      "\n",
      "wheels: Number of Wii wheels included in the auction. These are steering wheel attachments to make it seem as though you are actually driving in the game. When used with the controller, turning the wheel actually causes the character on screen to turn.\n",
      "\n",
      "\n",
      "title: The title of the auctions."
     ]
    },
    {
     "cell_type": "markdown",
     "metadata": {},
     "source": [
      "Load marioKart.txt on a data frame. Use df=pd.read_table('path')"
     ]
    },
    {
     "cell_type": "code",
     "collapsed": false,
     "input": [
      "df=pd.read_table('marioKart.txt')"
     ],
     "language": "python",
     "metadata": {},
     "outputs": [],
     "prompt_number": 3
    },
    {
     "cell_type": "markdown",
     "metadata": {},
     "source": [
      "Explore the data. Use statistic summaries and graphs."
     ]
    },
    {
     "cell_type": "code",
     "collapsed": false,
     "input": [
      "df.head()\n",
      "#df.dtypes\n",
      "#df.describe()"
     ],
     "language": "python",
     "metadata": {},
     "outputs": [
      {
       "html": [
        "<div style=\"max-height:1000px;max-width:1500px;overflow:auto;\">\n",
        "<table border=\"1\" class=\"dataframe\">\n",
        "  <thead>\n",
        "    <tr style=\"text-align: right;\">\n",
        "      <th></th>\n",
        "      <th>ID</th>\n",
        "      <th>duration</th>\n",
        "      <th>nBids</th>\n",
        "      <th>cond</th>\n",
        "      <th>startPr</th>\n",
        "      <th>shipPr</th>\n",
        "      <th>totalPr</th>\n",
        "      <th>shipSp</th>\n",
        "      <th>sellerRate</th>\n",
        "      <th>stockPhoto</th>\n",
        "      <th>wheels</th>\n",
        "      <th>title</th>\n",
        "    </tr>\n",
        "  </thead>\n",
        "  <tbody>\n",
        "    <tr>\n",
        "      <th>0</th>\n",
        "      <td> 150377422259</td>\n",
        "      <td> 3</td>\n",
        "      <td> 20</td>\n",
        "      <td>  new</td>\n",
        "      <td> 0.99</td>\n",
        "      <td> 4.00</td>\n",
        "      <td> 51.55</td>\n",
        "      <td>   standard</td>\n",
        "      <td> 1580</td>\n",
        "      <td> yes</td>\n",
        "      <td> 1</td>\n",
        "      <td> ~~ Wii MARIO KART &amp;amp; WHEEL ~ NINTENDO Wii ~...</td>\n",
        "    </tr>\n",
        "    <tr>\n",
        "      <th>1</th>\n",
        "      <td> 260483376854</td>\n",
        "      <td> 7</td>\n",
        "      <td> 13</td>\n",
        "      <td> used</td>\n",
        "      <td> 0.99</td>\n",
        "      <td> 3.99</td>\n",
        "      <td> 37.04</td>\n",
        "      <td> firstClass</td>\n",
        "      <td>  365</td>\n",
        "      <td> yes</td>\n",
        "      <td> 1</td>\n",
        "      <td> Mariokart Wii Nintendo with wheel - Mario Kart...</td>\n",
        "    </tr>\n",
        "    <tr>\n",
        "      <th>2</th>\n",
        "      <td> 320432342985</td>\n",
        "      <td> 3</td>\n",
        "      <td> 16</td>\n",
        "      <td>  new</td>\n",
        "      <td> 0.99</td>\n",
        "      <td> 3.50</td>\n",
        "      <td> 45.50</td>\n",
        "      <td> firstClass</td>\n",
        "      <td>  998</td>\n",
        "      <td>  no</td>\n",
        "      <td> 1</td>\n",
        "      <td>                              Mario Kart Wii (Wii)</td>\n",
        "    </tr>\n",
        "    <tr>\n",
        "      <th>3</th>\n",
        "      <td> 280405224677</td>\n",
        "      <td> 3</td>\n",
        "      <td> 18</td>\n",
        "      <td>  new</td>\n",
        "      <td> 0.99</td>\n",
        "      <td> 0.00</td>\n",
        "      <td> 44.00</td>\n",
        "      <td>   standard</td>\n",
        "      <td>    7</td>\n",
        "      <td> yes</td>\n",
        "      <td> 1</td>\n",
        "      <td> Brand New Mario Kart Wii Comes with Wheel. Fre...</td>\n",
        "    </tr>\n",
        "    <tr>\n",
        "      <th>4</th>\n",
        "      <td> 170392227765</td>\n",
        "      <td> 1</td>\n",
        "      <td> 20</td>\n",
        "      <td>  new</td>\n",
        "      <td> 0.01</td>\n",
        "      <td> 0.00</td>\n",
        "      <td> 71.00</td>\n",
        "      <td>      media</td>\n",
        "      <td>  820</td>\n",
        "      <td> yes</td>\n",
        "      <td> 2</td>\n",
        "      <td> BRAND NEW NINTENDO 1 WII MARIO KART WITH 2 WHE...</td>\n",
        "    </tr>\n",
        "  </tbody>\n",
        "</table>\n",
        "</div>"
       ],
       "metadata": {},
       "output_type": "pyout",
       "prompt_number": 4,
       "text": [
        "             ID  duration  nBids  cond  startPr  shipPr  totalPr      shipSp  \\\n",
        "0  150377422259         3     20   new     0.99    4.00    51.55    standard   \n",
        "1  260483376854         7     13  used     0.99    3.99    37.04  firstClass   \n",
        "2  320432342985         3     16   new     0.99    3.50    45.50  firstClass   \n",
        "3  280405224677         3     18   new     0.99    0.00    44.00    standard   \n",
        "4  170392227765         1     20   new     0.01    0.00    71.00       media   \n",
        "\n",
        "   sellerRate stockPhoto  wheels  \\\n",
        "0        1580        yes       1   \n",
        "1         365        yes       1   \n",
        "2         998         no       1   \n",
        "3           7        yes       1   \n",
        "4         820        yes       2   \n",
        "\n",
        "                                               title  \n",
        "0  ~~ Wii MARIO KART &amp; WHEEL ~ NINTENDO Wii ~...  \n",
        "1  Mariokart Wii Nintendo with wheel - Mario Kart...  \n",
        "2                               Mario Kart Wii (Wii)  \n",
        "3  Brand New Mario Kart Wii Comes with Wheel. Fre...  \n",
        "4  BRAND NEW NINTENDO 1 WII MARIO KART WITH 2 WHE...  "
       ]
      }
     ],
     "prompt_number": 4
    },
    {
     "cell_type": "markdown",
     "metadata": {},
     "source": [
      "Add an extra column to the dataframe. Name it cond_num"
     ]
    },
    {
     "cell_type": "markdown",
     "metadata": {},
     "source": [
      "Use a for/if loop to change variable **cond** from new,used to 1,0 respectively."
     ]
    },
    {
     "cell_type": "code",
     "collapsed": false,
     "input": [
      "length = np.size(df)\n",
      "df['cond_num']=\"\"\n",
      "for i in range(len(df['cond'])):\n",
      "    if (df['cond'][i] =='new'):\n",
      "      df['cond_num'][i]=1\n",
      "    else:\n",
      "      df['cond_num'][i]=0\n"
     ],
     "language": "python",
     "metadata": {},
     "outputs": [],
     "prompt_number": 15
    },
    {
     "cell_type": "markdown",
     "metadata": {},
     "source": [
      "Check the first lines of the data base."
     ]
    },
    {
     "cell_type": "code",
     "collapsed": false,
     "input": [
      "df.head()"
     ],
     "language": "python",
     "metadata": {},
     "outputs": [
      {
       "html": [
        "<div style=\"max-height:1000px;max-width:1500px;overflow:auto;\">\n",
        "<table border=\"1\" class=\"dataframe\">\n",
        "  <thead>\n",
        "    <tr style=\"text-align: right;\">\n",
        "      <th></th>\n",
        "      <th>ID</th>\n",
        "      <th>duration</th>\n",
        "      <th>nBids</th>\n",
        "      <th>cond</th>\n",
        "      <th>startPr</th>\n",
        "      <th>shipPr</th>\n",
        "      <th>totalPr</th>\n",
        "      <th>shipSp</th>\n",
        "      <th>sellerRate</th>\n",
        "      <th>stockPhoto</th>\n",
        "      <th>wheels</th>\n",
        "      <th>title</th>\n",
        "      <th>cond_num</th>\n",
        "    </tr>\n",
        "  </thead>\n",
        "  <tbody>\n",
        "    <tr>\n",
        "      <th>0</th>\n",
        "      <td> 150377422259</td>\n",
        "      <td> 3</td>\n",
        "      <td> 20</td>\n",
        "      <td>  new</td>\n",
        "      <td> 0.99</td>\n",
        "      <td> 4.00</td>\n",
        "      <td> 51.55</td>\n",
        "      <td>   standard</td>\n",
        "      <td> 1580</td>\n",
        "      <td> yes</td>\n",
        "      <td> 1</td>\n",
        "      <td> ~~ Wii MARIO KART &amp;amp; WHEEL ~ NINTENDO Wii ~...</td>\n",
        "      <td> 1</td>\n",
        "    </tr>\n",
        "    <tr>\n",
        "      <th>1</th>\n",
        "      <td> 260483376854</td>\n",
        "      <td> 7</td>\n",
        "      <td> 13</td>\n",
        "      <td> used</td>\n",
        "      <td> 0.99</td>\n",
        "      <td> 3.99</td>\n",
        "      <td> 37.04</td>\n",
        "      <td> firstClass</td>\n",
        "      <td>  365</td>\n",
        "      <td> yes</td>\n",
        "      <td> 1</td>\n",
        "      <td> Mariokart Wii Nintendo with wheel - Mario Kart...</td>\n",
        "      <td> 0</td>\n",
        "    </tr>\n",
        "    <tr>\n",
        "      <th>2</th>\n",
        "      <td> 320432342985</td>\n",
        "      <td> 3</td>\n",
        "      <td> 16</td>\n",
        "      <td>  new</td>\n",
        "      <td> 0.99</td>\n",
        "      <td> 3.50</td>\n",
        "      <td> 45.50</td>\n",
        "      <td> firstClass</td>\n",
        "      <td>  998</td>\n",
        "      <td>  no</td>\n",
        "      <td> 1</td>\n",
        "      <td>                              Mario Kart Wii (Wii)</td>\n",
        "      <td> 1</td>\n",
        "    </tr>\n",
        "    <tr>\n",
        "      <th>3</th>\n",
        "      <td> 280405224677</td>\n",
        "      <td> 3</td>\n",
        "      <td> 18</td>\n",
        "      <td>  new</td>\n",
        "      <td> 0.99</td>\n",
        "      <td> 0.00</td>\n",
        "      <td> 44.00</td>\n",
        "      <td>   standard</td>\n",
        "      <td>    7</td>\n",
        "      <td> yes</td>\n",
        "      <td> 1</td>\n",
        "      <td> Brand New Mario Kart Wii Comes with Wheel. Fre...</td>\n",
        "      <td> 1</td>\n",
        "    </tr>\n",
        "    <tr>\n",
        "      <th>4</th>\n",
        "      <td> 170392227765</td>\n",
        "      <td> 1</td>\n",
        "      <td> 20</td>\n",
        "      <td>  new</td>\n",
        "      <td> 0.01</td>\n",
        "      <td> 0.00</td>\n",
        "      <td> 71.00</td>\n",
        "      <td>      media</td>\n",
        "      <td>  820</td>\n",
        "      <td> yes</td>\n",
        "      <td> 2</td>\n",
        "      <td> BRAND NEW NINTENDO 1 WII MARIO KART WITH 2 WHE...</td>\n",
        "      <td> 1</td>\n",
        "    </tr>\n",
        "  </tbody>\n",
        "</table>\n",
        "</div>"
       ],
       "metadata": {},
       "output_type": "pyout",
       "prompt_number": 19,
       "text": [
        "             ID  duration  nBids  cond  startPr  shipPr  totalPr      shipSp  \\\n",
        "0  150377422259         3     20   new     0.99    4.00    51.55    standard   \n",
        "1  260483376854         7     13  used     0.99    3.99    37.04  firstClass   \n",
        "2  320432342985         3     16   new     0.99    3.50    45.50  firstClass   \n",
        "3  280405224677         3     18   new     0.99    0.00    44.00    standard   \n",
        "4  170392227765         1     20   new     0.01    0.00    71.00       media   \n",
        "\n",
        "   sellerRate stockPhoto  wheels  \\\n",
        "0        1580        yes       1   \n",
        "1         365        yes       1   \n",
        "2         998         no       1   \n",
        "3           7        yes       1   \n",
        "4         820        yes       2   \n",
        "\n",
        "                                               title cond_num  \n",
        "0  ~~ Wii MARIO KART &amp; WHEEL ~ NINTENDO Wii ~...        1  \n",
        "1  Mariokart Wii Nintendo with wheel - Mario Kart...        0  \n",
        "2                               Mario Kart Wii (Wii)        1  \n",
        "3  Brand New Mario Kart Wii Comes with Wheel. Fre...        1  \n",
        "4  BRAND NEW NINTENDO 1 WII MARIO KART WITH 2 WHE...        1  "
       ]
      }
     ],
     "prompt_number": 19
    },
    {
     "cell_type": "markdown",
     "metadata": {},
     "source": [
      "Produce a scatter plot for the variables cond and totalPr"
     ]
    },
    {
     "cell_type": "code",
     "collapsed": false,
     "input": [
      "plt.plot(df.cond, df.totalPr)"
     ],
     "language": "python",
     "metadata": {},
     "outputs": [
      {
       "ename": "ValueError",
       "evalue": "could not convert string to float: new",
       "output_type": "pyerr",
       "traceback": [
        "\u001b[1;31m---------------------------------------------------------------------------\u001b[0m\n\u001b[1;31mValueError\u001b[0m                                Traceback (most recent call last)",
        "\u001b[1;32m<ipython-input-20-7053aa6a32f4>\u001b[0m in \u001b[0;36m<module>\u001b[1;34m()\u001b[0m\n\u001b[1;32m----> 1\u001b[1;33m \u001b[0mplt\u001b[0m\u001b[1;33m.\u001b[0m\u001b[0mplot\u001b[0m\u001b[1;33m(\u001b[0m\u001b[0mdf\u001b[0m\u001b[1;33m.\u001b[0m\u001b[0mcond\u001b[0m\u001b[1;33m,\u001b[0m \u001b[0mdf\u001b[0m\u001b[1;33m.\u001b[0m\u001b[0mtotalPr\u001b[0m\u001b[1;33m)\u001b[0m\u001b[1;33m\u001b[0m\u001b[0m\n\u001b[0m",
        "\u001b[1;32m/usr/lib/pymodules/python2.7/matplotlib/pyplot.pyc\u001b[0m in \u001b[0;36mplot\u001b[1;34m(*args, **kwargs)\u001b[0m\n\u001b[0;32m   2985\u001b[0m         \u001b[0max\u001b[0m\u001b[1;33m.\u001b[0m\u001b[0mhold\u001b[0m\u001b[1;33m(\u001b[0m\u001b[0mhold\u001b[0m\u001b[1;33m)\u001b[0m\u001b[1;33m\u001b[0m\u001b[0m\n\u001b[0;32m   2986\u001b[0m     \u001b[1;32mtry\u001b[0m\u001b[1;33m:\u001b[0m\u001b[1;33m\u001b[0m\u001b[0m\n\u001b[1;32m-> 2987\u001b[1;33m         \u001b[0mret\u001b[0m \u001b[1;33m=\u001b[0m \u001b[0max\u001b[0m\u001b[1;33m.\u001b[0m\u001b[0mplot\u001b[0m\u001b[1;33m(\u001b[0m\u001b[1;33m*\u001b[0m\u001b[0margs\u001b[0m\u001b[1;33m,\u001b[0m \u001b[1;33m**\u001b[0m\u001b[0mkwargs\u001b[0m\u001b[1;33m)\u001b[0m\u001b[1;33m\u001b[0m\u001b[0m\n\u001b[0m\u001b[0;32m   2988\u001b[0m         \u001b[0mdraw_if_interactive\u001b[0m\u001b[1;33m(\u001b[0m\u001b[1;33m)\u001b[0m\u001b[1;33m\u001b[0m\u001b[0m\n\u001b[0;32m   2989\u001b[0m     \u001b[1;32mfinally\u001b[0m\u001b[1;33m:\u001b[0m\u001b[1;33m\u001b[0m\u001b[0m\n",
        "\u001b[1;32m/usr/lib/pymodules/python2.7/matplotlib/axes.pyc\u001b[0m in \u001b[0;36mplot\u001b[1;34m(self, *args, **kwargs)\u001b[0m\n\u001b[0;32m   4136\u001b[0m \u001b[1;33m\u001b[0m\u001b[0m\n\u001b[0;32m   4137\u001b[0m         \u001b[1;32mfor\u001b[0m \u001b[0mline\u001b[0m \u001b[1;32min\u001b[0m \u001b[0mself\u001b[0m\u001b[1;33m.\u001b[0m\u001b[0m_get_lines\u001b[0m\u001b[1;33m(\u001b[0m\u001b[1;33m*\u001b[0m\u001b[0margs\u001b[0m\u001b[1;33m,\u001b[0m \u001b[1;33m**\u001b[0m\u001b[0mkwargs\u001b[0m\u001b[1;33m)\u001b[0m\u001b[1;33m:\u001b[0m\u001b[1;33m\u001b[0m\u001b[0m\n\u001b[1;32m-> 4138\u001b[1;33m             \u001b[0mself\u001b[0m\u001b[1;33m.\u001b[0m\u001b[0madd_line\u001b[0m\u001b[1;33m(\u001b[0m\u001b[0mline\u001b[0m\u001b[1;33m)\u001b[0m\u001b[1;33m\u001b[0m\u001b[0m\n\u001b[0m\u001b[0;32m   4139\u001b[0m             \u001b[0mlines\u001b[0m\u001b[1;33m.\u001b[0m\u001b[0mappend\u001b[0m\u001b[1;33m(\u001b[0m\u001b[0mline\u001b[0m\u001b[1;33m)\u001b[0m\u001b[1;33m\u001b[0m\u001b[0m\n\u001b[0;32m   4140\u001b[0m \u001b[1;33m\u001b[0m\u001b[0m\n",
        "\u001b[1;32m/usr/lib/pymodules/python2.7/matplotlib/axes.pyc\u001b[0m in \u001b[0;36madd_line\u001b[1;34m(self, line)\u001b[0m\n\u001b[0;32m   1495\u001b[0m             \u001b[0mline\u001b[0m\u001b[1;33m.\u001b[0m\u001b[0mset_clip_path\u001b[0m\u001b[1;33m(\u001b[0m\u001b[0mself\u001b[0m\u001b[1;33m.\u001b[0m\u001b[0mpatch\u001b[0m\u001b[1;33m)\u001b[0m\u001b[1;33m\u001b[0m\u001b[0m\n\u001b[0;32m   1496\u001b[0m \u001b[1;33m\u001b[0m\u001b[0m\n\u001b[1;32m-> 1497\u001b[1;33m         \u001b[0mself\u001b[0m\u001b[1;33m.\u001b[0m\u001b[0m_update_line_limits\u001b[0m\u001b[1;33m(\u001b[0m\u001b[0mline\u001b[0m\u001b[1;33m)\u001b[0m\u001b[1;33m\u001b[0m\u001b[0m\n\u001b[0m\u001b[0;32m   1498\u001b[0m         \u001b[1;32mif\u001b[0m \u001b[1;32mnot\u001b[0m \u001b[0mline\u001b[0m\u001b[1;33m.\u001b[0m\u001b[0mget_label\u001b[0m\u001b[1;33m(\u001b[0m\u001b[1;33m)\u001b[0m\u001b[1;33m:\u001b[0m\u001b[1;33m\u001b[0m\u001b[0m\n\u001b[0;32m   1499\u001b[0m             \u001b[0mline\u001b[0m\u001b[1;33m.\u001b[0m\u001b[0mset_label\u001b[0m\u001b[1;33m(\u001b[0m\u001b[1;34m'_line%d'\u001b[0m \u001b[1;33m%\u001b[0m \u001b[0mlen\u001b[0m\u001b[1;33m(\u001b[0m\u001b[0mself\u001b[0m\u001b[1;33m.\u001b[0m\u001b[0mlines\u001b[0m\u001b[1;33m)\u001b[0m\u001b[1;33m)\u001b[0m\u001b[1;33m\u001b[0m\u001b[0m\n",
        "\u001b[1;32m/usr/lib/pymodules/python2.7/matplotlib/axes.pyc\u001b[0m in \u001b[0;36m_update_line_limits\u001b[1;34m(self, line)\u001b[0m\n\u001b[0;32m   1506\u001b[0m         \u001b[0mFigures\u001b[0m \u001b[0mout\u001b[0m \u001b[0mthe\u001b[0m \u001b[0mdata\u001b[0m \u001b[0mlimit\u001b[0m \u001b[0mof\u001b[0m \u001b[0mthe\u001b[0m \u001b[0mgiven\u001b[0m \u001b[0mline\u001b[0m\u001b[1;33m,\u001b[0m \u001b[0mupdating\u001b[0m \u001b[0mself\u001b[0m\u001b[1;33m.\u001b[0m\u001b[0mdataLim\u001b[0m\u001b[1;33m.\u001b[0m\u001b[1;33m\u001b[0m\u001b[0m\n\u001b[0;32m   1507\u001b[0m         \"\"\"\n\u001b[1;32m-> 1508\u001b[1;33m         \u001b[0mpath\u001b[0m \u001b[1;33m=\u001b[0m \u001b[0mline\u001b[0m\u001b[1;33m.\u001b[0m\u001b[0mget_path\u001b[0m\u001b[1;33m(\u001b[0m\u001b[1;33m)\u001b[0m\u001b[1;33m\u001b[0m\u001b[0m\n\u001b[0m\u001b[0;32m   1509\u001b[0m         \u001b[1;32mif\u001b[0m \u001b[0mpath\u001b[0m\u001b[1;33m.\u001b[0m\u001b[0mvertices\u001b[0m\u001b[1;33m.\u001b[0m\u001b[0msize\u001b[0m \u001b[1;33m==\u001b[0m \u001b[1;36m0\u001b[0m\u001b[1;33m:\u001b[0m\u001b[1;33m\u001b[0m\u001b[0m\n\u001b[0;32m   1510\u001b[0m             \u001b[1;32mreturn\u001b[0m\u001b[1;33m\u001b[0m\u001b[0m\n",
        "\u001b[1;32m/usr/lib/pymodules/python2.7/matplotlib/lines.pyc\u001b[0m in \u001b[0;36mget_path\u001b[1;34m(self)\u001b[0m\n\u001b[0;32m    741\u001b[0m         \"\"\"\n\u001b[0;32m    742\u001b[0m         \u001b[1;32mif\u001b[0m \u001b[0mself\u001b[0m\u001b[1;33m.\u001b[0m\u001b[0m_invalidy\u001b[0m \u001b[1;32mor\u001b[0m \u001b[0mself\u001b[0m\u001b[1;33m.\u001b[0m\u001b[0m_invalidx\u001b[0m\u001b[1;33m:\u001b[0m\u001b[1;33m\u001b[0m\u001b[0m\n\u001b[1;32m--> 743\u001b[1;33m             \u001b[0mself\u001b[0m\u001b[1;33m.\u001b[0m\u001b[0mrecache\u001b[0m\u001b[1;33m(\u001b[0m\u001b[1;33m)\u001b[0m\u001b[1;33m\u001b[0m\u001b[0m\n\u001b[0m\u001b[0;32m    744\u001b[0m         \u001b[1;32mreturn\u001b[0m \u001b[0mself\u001b[0m\u001b[1;33m.\u001b[0m\u001b[0m_path\u001b[0m\u001b[1;33m\u001b[0m\u001b[0m\n\u001b[0;32m    745\u001b[0m \u001b[1;33m\u001b[0m\u001b[0m\n",
        "\u001b[1;32m/usr/lib/pymodules/python2.7/matplotlib/lines.pyc\u001b[0m in \u001b[0;36mrecache\u001b[1;34m(self, always)\u001b[0m\n\u001b[0;32m    418\u001b[0m                 \u001b[0mx\u001b[0m \u001b[1;33m=\u001b[0m \u001b[0mma\u001b[0m\u001b[1;33m.\u001b[0m\u001b[0masarray\u001b[0m\u001b[1;33m(\u001b[0m\u001b[0mxconv\u001b[0m\u001b[1;33m,\u001b[0m \u001b[0mnp\u001b[0m\u001b[1;33m.\u001b[0m\u001b[0mfloat_\u001b[0m\u001b[1;33m)\u001b[0m\u001b[1;33m\u001b[0m\u001b[0m\n\u001b[0;32m    419\u001b[0m             \u001b[1;32melse\u001b[0m\u001b[1;33m:\u001b[0m\u001b[1;33m\u001b[0m\u001b[0m\n\u001b[1;32m--> 420\u001b[1;33m                 \u001b[0mx\u001b[0m \u001b[1;33m=\u001b[0m \u001b[0mnp\u001b[0m\u001b[1;33m.\u001b[0m\u001b[0masarray\u001b[0m\u001b[1;33m(\u001b[0m\u001b[0mxconv\u001b[0m\u001b[1;33m,\u001b[0m \u001b[0mnp\u001b[0m\u001b[1;33m.\u001b[0m\u001b[0mfloat_\u001b[0m\u001b[1;33m)\u001b[0m\u001b[1;33m\u001b[0m\u001b[0m\n\u001b[0m\u001b[0;32m    421\u001b[0m             \u001b[0mx\u001b[0m \u001b[1;33m=\u001b[0m \u001b[0mx\u001b[0m\u001b[1;33m.\u001b[0m\u001b[0mravel\u001b[0m\u001b[1;33m(\u001b[0m\u001b[1;33m)\u001b[0m\u001b[1;33m\u001b[0m\u001b[0m\n\u001b[0;32m    422\u001b[0m         \u001b[1;32melse\u001b[0m\u001b[1;33m:\u001b[0m\u001b[1;33m\u001b[0m\u001b[0m\n",
        "\u001b[1;32m/usr/local/lib/python2.7/dist-packages/numpy/core/numeric.pyc\u001b[0m in \u001b[0;36masarray\u001b[1;34m(a, dtype, order)\u001b[0m\n\u001b[0;32m    460\u001b[0m \u001b[1;33m\u001b[0m\u001b[0m\n\u001b[0;32m    461\u001b[0m     \"\"\"\n\u001b[1;32m--> 462\u001b[1;33m     \u001b[1;32mreturn\u001b[0m \u001b[0marray\u001b[0m\u001b[1;33m(\u001b[0m\u001b[0ma\u001b[0m\u001b[1;33m,\u001b[0m \u001b[0mdtype\u001b[0m\u001b[1;33m,\u001b[0m \u001b[0mcopy\u001b[0m\u001b[1;33m=\u001b[0m\u001b[0mFalse\u001b[0m\u001b[1;33m,\u001b[0m \u001b[0morder\u001b[0m\u001b[1;33m=\u001b[0m\u001b[0morder\u001b[0m\u001b[1;33m)\u001b[0m\u001b[1;33m\u001b[0m\u001b[0m\n\u001b[0m\u001b[0;32m    463\u001b[0m \u001b[1;33m\u001b[0m\u001b[0m\n\u001b[0;32m    464\u001b[0m \u001b[1;32mdef\u001b[0m \u001b[0masanyarray\u001b[0m\u001b[1;33m(\u001b[0m\u001b[0ma\u001b[0m\u001b[1;33m,\u001b[0m \u001b[0mdtype\u001b[0m\u001b[1;33m=\u001b[0m\u001b[0mNone\u001b[0m\u001b[1;33m,\u001b[0m \u001b[0morder\u001b[0m\u001b[1;33m=\u001b[0m\u001b[0mNone\u001b[0m\u001b[1;33m)\u001b[0m\u001b[1;33m:\u001b[0m\u001b[1;33m\u001b[0m\u001b[0m\n",
        "\u001b[1;31mValueError\u001b[0m: could not convert string to float: new"
       ]
      },
      {
       "metadata": {},
       "output_type": "display_data",
       "png": "[encoded data removed]",
       "text": [
        "<matplotlib.figure.Figure at 0x7fddd21f5c50>"
       ]
      }
     ],
     "prompt_number": 20
    },
    {
     "cell_type": "markdown",
     "metadata": {},
     "source": [
      "Fit a line to the data, using the following steps:"
     ]
    },
    {
     "cell_type": "code",
     "collapsed": false,
     "input": [
      "##Set X to be the variable that describes the condition of the game\n",
      " \n",
      "##Set y to be the variable that describes the total price\n",
      " \n",
      "##Add a constanct for the intercept\n",
      "X = sm.add_constant(X)\n",
      " \n",
      "## fit a OLS model with intercept on shoulder girth\n",
      "est = sm.OLS(y, X).fit()\n",
      "##Get the estimated parameters of the regression line\n",
      "est.params"
     ],
     "language": "python",
     "metadata": {},
     "outputs": []
    },
    {
     "cell_type": "code",
     "collapsed": false,
     "input": [],
     "language": "python",
     "metadata": {},
     "outputs": []
    },
    {
     "cell_type": "markdown",
     "metadata": {},
     "source": [
      "Write the equation of the regression line and add it to the scatter plot."
     ]
    },
    {
     "cell_type": "code",
     "collapsed": false,
     "input": [],
     "language": "python",
     "metadata": {},
     "outputs": []
    },
    {
     "cell_type": "markdown",
     "metadata": {},
     "source": [
      "Evaluate and plot the residuals."
     ]
    },
    {
     "cell_type": "code",
     "collapsed": false,
     "input": [],
     "language": "python",
     "metadata": {},
     "outputs": []
    },
    {
     "cell_type": "markdown",
     "metadata": {},
     "source": [
      "Check for probable outliers in the graph.\n",
      "\n",
      "If there exist are they influencial?"
     ]
    },
    {
     "cell_type": "code",
     "collapsed": false,
     "input": [],
     "language": "python",
     "metadata": {},
     "outputs": []
    },
    {
     "cell_type": "markdown",
     "metadata": {},
     "source": [
      "Check the values of the outliers.\n",
      "\n",
      "Should we exclude them from the data?"
     ]
    },
    {
     "cell_type": "markdown",
     "metadata": {},
     "source": [
      "Create a new dataframe by excluding the outliers."
     ]
    },
    {
     "cell_type": "code",
     "collapsed": false,
     "input": [],
     "language": "python",
     "metadata": {},
     "outputs": []
    },
    {
     "cell_type": "markdown",
     "metadata": {},
     "source": [
      "Fit a line to the data, using the following steps:"
     ]
    },
    {
     "cell_type": "code",
     "collapsed": false,
     "input": [
      "##Set X to be the variable that describes the condition of the game\n",
      " \n",
      "##Set y to be the variable that describes the total price\n",
      " \n",
      "##Add a constanct for the intercept\n",
      "X = sm.add_constant(X)\n",
      " \n",
      "## fit a OLS model with intercept on shoulder girth\n",
      "est = sm.OLS(y, X).fit()\n",
      "##Get the estimated parameters of the regression line\n",
      "est.params"
     ],
     "language": "python",
     "metadata": {},
     "outputs": []
    },
    {
     "cell_type": "markdown",
     "metadata": {},
     "source": [
      "Write the equation of the regression line and add it to the scatter plot."
     ]
    },
    {
     "cell_type": "code",
     "collapsed": false,
     "input": [],
     "language": "python",
     "metadata": {},
     "outputs": []
    },
    {
     "cell_type": "markdown",
     "metadata": {},
     "source": [
      "Does the data satisfy the conditions to fit a line?\n",
      "\n",
      "**Reminder**\n",
      "\n",
      "*Conditions*\n",
      "1. Linearity \n",
      "2. Nearly normal residuals\n",
      "3. Constant variability"
     ]
    },
    {
     "cell_type": "code",
     "collapsed": false,
     "input": [],
     "language": "python",
     "metadata": {},
     "outputs": []
    },
    {
     "cell_type": "code",
     "collapsed": false,
     "input": [
      "Evaluate the parameters using the following statistical function"
     ],
     "language": "python",
     "metadata": {},
     "outputs": []
    },
    {
     "cell_type": "code",
     "collapsed": false,
     "input": [
      "import statsmodels.formula.api as smf\n",
      "\n",
      "# formula: response ~ predictor + predictor\n",
      "# function C() transforms categorical variables to dummy variables\n",
      "est = smf.ols(formula='totalPr~ C(cond) ', data=).fit()\n",
      "est.params"
     ],
     "language": "python",
     "metadata": {},
     "outputs": [],
     "prompt_number": 63
    },
    {
     "cell_type": "markdown",
     "metadata": {},
     "source": [
      "Are the parameters the same as the previously fitted model?\n"
     ]
    },
    {
     "cell_type": "code",
     "collapsed": false,
     "input": [],
     "language": "python",
     "metadata": {},
     "outputs": []
    },
    {
     "cell_type": "markdown",
     "metadata": {},
     "source": [
      "Run"
     ]
    },
    {
     "cell_type": "code",
     "collapsed": false,
     "input": [
      "est.summary()"
     ],
     "language": "python",
     "metadata": {},
     "outputs": []
    },
    {
     "cell_type": "markdown",
     "metadata": {},
     "source": [
      "Can you explain now, why the parameters are different?"
     ]
    },
    {
     "cell_type": "code",
     "collapsed": false,
     "input": [],
     "language": "python",
     "metadata": {},
     "outputs": []
    },
    {
     "cell_type": "markdown",
     "metadata": {},
     "source": [
      "#Multiple regression"
     ]
    },
    {
     "cell_type": "markdown",
     "metadata": {},
     "source": [
      "##Mario yet again!"
     ]
    },
    {
     "cell_type": "markdown",
     "metadata": {},
     "source": [
      "Use the new dataframe, free of outliers, to fit a **full** model, for the variables cond, stock_photo, duration and wheels."
     ]
    },
    {
     "cell_type": "code",
     "collapsed": false,
     "input": [],
     "language": "python",
     "metadata": {},
     "outputs": []
    },
    {
     "cell_type": "markdown",
     "metadata": {},
     "source": [
      "Apply the Backwards selection strategy to come up with the \"best\" model."
     ]
    },
    {
     "cell_type": "code",
     "collapsed": false,
     "input": [],
     "language": "python",
     "metadata": {},
     "outputs": []
    },
    {
     "cell_type": "markdown",
     "metadata": {},
     "source": [
      "##Does the data satisfy the conditions for a multiple regression model?\n",
      "###Reminder\n",
      "**Conditions**\n",
      "1. The residuals of the model are nearly normal\n",
      "2. the variability of the residuals is nearly constant\n",
      "3. the residuals are independent\n",
      "4. each variable is linearly related to the outcome."
     ]
    },
    {
     "cell_type": "markdown",
     "metadata": {},
     "source": [
      "Produce the respective graphs and comment on them."
     ]
    },
    {
     "cell_type": "code",
     "collapsed": false,
     "input": [],
     "language": "python",
     "metadata": {},
     "outputs": []
    }
   ],
   "metadata": {}
  }
 ]
}