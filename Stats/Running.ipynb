{
 "metadata": {
  "name": "",
  "signature": "sha256:643daba0ca12f1157a0554a3b9dd0dc1c121e19304910dfec400f66308a7b13f"
 },
 "nbformat": 3,
 "nbformat_minor": 0,
 "worksheets": [
  {
   "cells": [
    {
     "cell_type": "code",
     "collapsed": false,
     "input": [
      "import numpy as np\n",
      "import pandas as pd\n",
      "import matplotlib as mpl\n",
      "import matplotlib.pyplot as plt\n",
      "from pylab import *\n",
      "import scipy.stats as stats\n",
      "import pylab\n",
      "\n",
      "\n",
      "\n",
      "mpl.style.available\n",
      "mpl.style.use('ggplot') \n",
      "%matplotlib inline  "
     ],
     "language": "python",
     "metadata": {},
     "outputs": [],
     "prompt_number": 38
    },
    {
     "cell_type": "markdown",
     "metadata": {},
     "source": [
      "##Description\n",
      "9 variables for all 16,924 10 mile participants in the 2012 Cherry Blossom Run.  \n",
      "\n",
      "##Format\n",
      " The run10 (2012 data) summarizes 16,924 observations on 9 variables.\n",
      "\n",
      "place: Finishing position. Separate positions are provided for each gender.\n",
      "\n",
      "time: The total run time. For run10, this is equivalent to netTime. netTime The run time from the start line to the finish line.\n",
      "\n",
      "pace: The listed pace for each runner.\n",
      "\n",
      "age: Age.\n",
      "\n",
      "gender: Gender.\n",
      "\n",
      "location: Hometown city. \n",
      "\n",
      "state: Hometown state. \n",
      "\n",
      "divPlace: Division place, also broken up by gender. (Division is running devision by age.)\n",
      "\n",
      "divTot: Total number of people in the division (again, also split by gender).\n"
     ]
    },
    {
     "cell_type": "markdown",
     "metadata": {},
     "source": [
      "Import as a dataframe run10.txt"
     ]
    },
    {
     "cell_type": "code",
     "collapsed": false,
     "input": [],
     "language": "python",
     "metadata": {},
     "outputs": [],
     "prompt_number": 42
    },
    {
     "cell_type": "markdown",
     "metadata": {},
     "source": [
      "Explore the first lines of the data"
     ]
    },
    {
     "cell_type": "code",
     "collapsed": false,
     "input": [],
     "language": "python",
     "metadata": {},
     "outputs": []
    },
    {
     "cell_type": "markdown",
     "metadata": {},
     "source": [
      "Get a summary of the data"
     ]
    },
    {
     "cell_type": "code",
     "collapsed": false,
     "input": [],
     "language": "python",
     "metadata": {},
     "outputs": []
    },
    {
     "cell_type": "markdown",
     "metadata": {},
     "source": [
      "Use pd.scatter_matrix(dataframe) on the dataframe to get an overview of the relationships between the variables. \n",
      "If you need to enlarge the plot add the argument figsize=(15,15) in pd.scatter_matrix."
     ]
    },
    {
     "cell_type": "code",
     "collapsed": false,
     "input": [],
     "language": "python",
     "metadata": {},
     "outputs": []
    },
    {
     "cell_type": "markdown",
     "metadata": {},
     "source": [
      "Study the relationship between the variables."
     ]
    },
    {
     "cell_type": "code",
     "collapsed": false,
     "input": [],
     "language": "python",
     "metadata": {},
     "outputs": []
    },
    {
     "cell_type": "markdown",
     "metadata": {},
     "source": [
      "Use pd.scatter_matrix('Variable') to get an overview of the relationships between time,pace and age."
     ]
    },
    {
     "cell_type": "code",
     "collapsed": false,
     "input": [],
     "language": "python",
     "metadata": {},
     "outputs": []
    },
    {
     "cell_type": "markdown",
     "metadata": {},
     "source": [
      "Study the graph and comment on the relations of the variables."
     ]
    },
    {
     "cell_type": "code",
     "collapsed": false,
     "input": [],
     "language": "python",
     "metadata": {},
     "outputs": []
    },
    {
     "cell_type": "heading",
     "level": 1,
     "metadata": {},
     "source": [
      "Comparison of different groups."
     ]
    },
    {
     "cell_type": "markdown",
     "metadata": {},
     "source": [
      "Group the database by gender. In oder to group data use .groupby('Variable')"
     ]
    },
    {
     "cell_type": "code",
     "collapsed": false,
     "input": [],
     "language": "python",
     "metadata": {},
     "outputs": []
    },
    {
     "cell_type": "markdown",
     "metadata": {},
     "source": [
      "Get a summary of the grouped data."
     ]
    },
    {
     "cell_type": "code",
     "collapsed": false,
     "input": [],
     "language": "python",
     "metadata": {},
     "outputs": []
    },
    {
     "cell_type": "markdown",
     "metadata": {},
     "source": [
      "Comment on the graph that is produced by following code and give an appropriate name in plt.legend()"
     ]
    },
    {
     "cell_type": "code",
     "collapsed": false,
     "input": [],
     "language": "python",
     "metadata": {},
     "outputs": []
    },
    {
     "cell_type": "markdown",
     "metadata": {},
     "source": [
      "Produce a histogramm of time variable for the grouped data"
     ]
    },
    {
     "cell_type": "code",
     "collapsed": false,
     "input": [],
     "language": "python",
     "metadata": {},
     "outputs": []
    },
    {
     "cell_type": "markdown",
     "metadata": {},
     "source": [
      "Produce a histogramm for the grouped data and overimpose the fitted densities."
     ]
    },
    {
     "cell_type": "code",
     "collapsed": false,
     "input": [],
     "language": "python",
     "metadata": {},
     "outputs": []
    },
    {
     "cell_type": "markdown",
     "metadata": {},
     "source": [
      "Check graphically, if the running times of men, follow a normal distribution."
     ]
    },
    {
     "cell_type": "code",
     "collapsed": false,
     "input": [],
     "language": "python",
     "metadata": {},
     "outputs": []
    },
    {
     "cell_type": "code",
     "collapsed": false,
     "input": [],
     "language": "python",
     "metadata": {},
     "outputs": []
    }
   ],
   "metadata": {}
  }
 ]
}