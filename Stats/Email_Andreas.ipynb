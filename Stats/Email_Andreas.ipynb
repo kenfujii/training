{
 "metadata": {
  "name": "",
  "signature": "sha256:8bf08180fe600dc9b089b7b89edfdf1bd8b5257c255f57b2cb6e8814fa6f0fbf"
 },
 "nbformat": 3,
 "nbformat_minor": 0,
 "worksheets": [
  {
   "cells": [
    {
     "cell_type": "code",
     "collapsed": false,
     "input": [
      "Import relevant libraries"
     ],
     "language": "python",
     "metadata": {},
     "outputs": []
    },
    {
     "cell_type": "code",
     "collapsed": false,
     "input": [
      "import numpy as np\n",
      "import pandas as pd\n",
      "import matplotlib as mpl\n",
      "import matplotlib.pyplot as plt\n",
      "import pylab\n",
      "import scipy.stats as stats\n",
      "import os\n",
      "#mpl.style.available\n",
      "#mpl.style.use('ggplot') \n",
      "%matplotlib inline "
     ],
     "language": "python",
     "metadata": {},
     "outputs": [],
     "prompt_number": 13
    },
    {
     "cell_type": "markdown",
     "metadata": {},
     "source": [
      "\n",
      "##Description\n",
      "These data represent incoming emails for the first three months of 2012 for an email account.\n",
      "##Format\n",
      "A email (email_sent) data frame has 3921 (1252) observations on the following 21 variables.\n",
      "\n",
      "spam: Indicator for whether the email was spam.\n",
      "\n",
      "to_multiple: Indicator for whether the email was addressed to more than one recipient.\n",
      "\n",
      "from: Whether the message was listed as from anyone (this is usually set by default for regular outgoing email).\n",
      "\n",
      "cc: The number of people that were CCed.\n",
      "\n",
      "sent_email: Indicator for whether the sender had been sent an email in the last 30 days.\n",
      "\n",
      "time: Time at which email was sent.\n",
      "\n",
      "image: The number of images attached.\n",
      "\n",
      "attach: The number of attached files.\n",
      "\n",
      "dollar: The number of times a dollar sign or the word \u201cdollar\u201d appeared in the email.\n",
      "\n",
      "winner: Indicates whether \u201cwinner\u201d appeared in the email.\n",
      "\n",
      "inherit: The number of times \u201cinherit\u201d (or an extension, such as \u201cinheritance\u201d) appeared in the email.\n",
      "\n",
      "viagra: The number of times \u201cviagra\u201d appeared in the email.\n",
      "\n",
      "password: The number of times \u201cpassword\u201d appeared in the email.\n",
      "\n",
      "num_char: The number of characters in the email, in thousands.\n",
      "\n",
      "line_breaks: The number of line breaks in the email (does not count text wrapping).\n",
      "\n",
      "format: Indicates whether the email was written using HTML (e.g. may have included bolding or active links).\n",
      "\n",
      "re_subj: Whether the subject started with \u201cRe:\u201d, \u201cRE:\u201d, \u201cre:\u201d, or \u201crE:\u201d\n",
      "\n",
      "exclaim_subj: Whether there was an exclamation point in the subject.\n",
      "\n",
      "urgent_subj: Whether the word \u201curgent\u201d was in the email subject.\n",
      "\n",
      "exclaim_mess: The number of exclamation points in the email message.\n",
      "\n",
      "number: Factor variable saying whether there was no number, a small number (under 1 million), or a big number."
     ]
    },
    {
     "cell_type": "markdown",
     "metadata": {},
     "source": [
      "Load email.txt on a data frame.\n",
      "Use df=pd.read_table('path')"
     ]
    },
    {
     "cell_type": "code",
     "collapsed": false,
     "input": [
      "df=pd.read_table('/home/vagrant/notebooks/training/Stats/email.txt')"
     ],
     "language": "python",
     "metadata": {},
     "outputs": [],
     "prompt_number": 22
    },
    {
     "cell_type": "markdown",
     "metadata": {},
     "source": [
      "Explore the first lines of the data by using df.head()"
     ]
    },
    {
     "cell_type": "code",
     "collapsed": false,
     "input": [
      "df.head()"
     ],
     "language": "python",
     "metadata": {},
     "outputs": [
      {
       "html": [
        "<div style=\"max-height:1000px;max-width:1500px;overflow:auto;\">\n",
        "<table border=\"1\" class=\"dataframe\">\n",
        "  <thead>\n",
        "    <tr style=\"text-align: right;\">\n",
        "      <th></th>\n",
        "      <th>spam</th>\n",
        "      <th>to_multiple</th>\n",
        "      <th>from</th>\n",
        "      <th>cc</th>\n",
        "      <th>sent_email</th>\n",
        "      <th>time</th>\n",
        "      <th>image</th>\n",
        "      <th>attach</th>\n",
        "      <th>dollar</th>\n",
        "      <th>winner</th>\n",
        "      <th>...</th>\n",
        "      <th>viagra</th>\n",
        "      <th>password</th>\n",
        "      <th>num_char</th>\n",
        "      <th>line_breaks</th>\n",
        "      <th>format</th>\n",
        "      <th>re_subj</th>\n",
        "      <th>exclaim_subj</th>\n",
        "      <th>urgent_subj</th>\n",
        "      <th>exclaim_mess</th>\n",
        "      <th>number</th>\n",
        "    </tr>\n",
        "  </thead>\n",
        "  <tbody>\n",
        "    <tr>\n",
        "      <th>0</th>\n",
        "      <td> 0</td>\n",
        "      <td> 0</td>\n",
        "      <td> 1</td>\n",
        "      <td> 0</td>\n",
        "      <td> 0</td>\n",
        "      <td> 2011-12-31 22:16:41</td>\n",
        "      <td> 0</td>\n",
        "      <td> 0</td>\n",
        "      <td> 0</td>\n",
        "      <td> no</td>\n",
        "      <td>...</td>\n",
        "      <td> 0</td>\n",
        "      <td> 0</td>\n",
        "      <td> 11.370</td>\n",
        "      <td> 202</td>\n",
        "      <td> 1</td>\n",
        "      <td> 0</td>\n",
        "      <td> 0</td>\n",
        "      <td> 0</td>\n",
        "      <td>  0</td>\n",
        "      <td>   big</td>\n",
        "    </tr>\n",
        "    <tr>\n",
        "      <th>1</th>\n",
        "      <td> 0</td>\n",
        "      <td> 0</td>\n",
        "      <td> 1</td>\n",
        "      <td> 0</td>\n",
        "      <td> 0</td>\n",
        "      <td> 2011-12-31 23:03:59</td>\n",
        "      <td> 0</td>\n",
        "      <td> 0</td>\n",
        "      <td> 0</td>\n",
        "      <td> no</td>\n",
        "      <td>...</td>\n",
        "      <td> 0</td>\n",
        "      <td> 0</td>\n",
        "      <td> 10.504</td>\n",
        "      <td> 202</td>\n",
        "      <td> 1</td>\n",
        "      <td> 0</td>\n",
        "      <td> 0</td>\n",
        "      <td> 0</td>\n",
        "      <td>  1</td>\n",
        "      <td> small</td>\n",
        "    </tr>\n",
        "    <tr>\n",
        "      <th>2</th>\n",
        "      <td> 0</td>\n",
        "      <td> 0</td>\n",
        "      <td> 1</td>\n",
        "      <td> 0</td>\n",
        "      <td> 0</td>\n",
        "      <td> 2012-01-01 08:00:32</td>\n",
        "      <td> 0</td>\n",
        "      <td> 0</td>\n",
        "      <td> 4</td>\n",
        "      <td> no</td>\n",
        "      <td>...</td>\n",
        "      <td> 0</td>\n",
        "      <td> 0</td>\n",
        "      <td>  7.773</td>\n",
        "      <td> 192</td>\n",
        "      <td> 1</td>\n",
        "      <td> 0</td>\n",
        "      <td> 0</td>\n",
        "      <td> 0</td>\n",
        "      <td>  6</td>\n",
        "      <td> small</td>\n",
        "    </tr>\n",
        "    <tr>\n",
        "      <th>3</th>\n",
        "      <td> 0</td>\n",
        "      <td> 0</td>\n",
        "      <td> 1</td>\n",
        "      <td> 0</td>\n",
        "      <td> 0</td>\n",
        "      <td> 2012-01-01 01:09:49</td>\n",
        "      <td> 0</td>\n",
        "      <td> 0</td>\n",
        "      <td> 0</td>\n",
        "      <td> no</td>\n",
        "      <td>...</td>\n",
        "      <td> 0</td>\n",
        "      <td> 0</td>\n",
        "      <td> 13.256</td>\n",
        "      <td> 255</td>\n",
        "      <td> 1</td>\n",
        "      <td> 0</td>\n",
        "      <td> 0</td>\n",
        "      <td> 0</td>\n",
        "      <td> 48</td>\n",
        "      <td> small</td>\n",
        "    </tr>\n",
        "    <tr>\n",
        "      <th>4</th>\n",
        "      <td> 0</td>\n",
        "      <td> 0</td>\n",
        "      <td> 1</td>\n",
        "      <td> 0</td>\n",
        "      <td> 0</td>\n",
        "      <td> 2012-01-01 02:00:01</td>\n",
        "      <td> 0</td>\n",
        "      <td> 0</td>\n",
        "      <td> 0</td>\n",
        "      <td> no</td>\n",
        "      <td>...</td>\n",
        "      <td> 0</td>\n",
        "      <td> 2</td>\n",
        "      <td>  1.231</td>\n",
        "      <td>  29</td>\n",
        "      <td> 0</td>\n",
        "      <td> 0</td>\n",
        "      <td> 0</td>\n",
        "      <td> 0</td>\n",
        "      <td>  1</td>\n",
        "      <td>  none</td>\n",
        "    </tr>\n",
        "  </tbody>\n",
        "</table>\n",
        "<p>5 rows \u00d7 21 columns</p>\n",
        "</div>"
       ],
       "metadata": {},
       "output_type": "pyout",
       "prompt_number": 23,
       "text": [
        "   spam  to_multiple  from  cc  sent_email                 time  image  \\\n",
        "0     0            0     1   0           0  2011-12-31 22:16:41      0   \n",
        "1     0            0     1   0           0  2011-12-31 23:03:59      0   \n",
        "2     0            0     1   0           0  2012-01-01 08:00:32      0   \n",
        "3     0            0     1   0           0  2012-01-01 01:09:49      0   \n",
        "4     0            0     1   0           0  2012-01-01 02:00:01      0   \n",
        "\n",
        "   attach  dollar winner  ...    viagra  password  num_char  line_breaks  \\\n",
        "0       0       0     no  ...         0         0    11.370          202   \n",
        "1       0       0     no  ...         0         0    10.504          202   \n",
        "2       0       4     no  ...         0         0     7.773          192   \n",
        "3       0       0     no  ...         0         0    13.256          255   \n",
        "4       0       0     no  ...         0         2     1.231           29   \n",
        "\n",
        "   format  re_subj  exclaim_subj  urgent_subj  exclaim_mess  number  \n",
        "0       1        0             0            0             0     big  \n",
        "1       1        0             0            0             1   small  \n",
        "2       1        0             0            0             6   small  \n",
        "3       1        0             0            0            48   small  \n",
        "4       0        0             0            0             1    none  \n",
        "\n",
        "[5 rows x 21 columns]"
       ]
      }
     ],
     "prompt_number": 23
    },
    {
     "cell_type": "markdown",
     "metadata": {},
     "source": [
      "Explore the different types of variables  df.dtypes"
     ]
    },
    {
     "cell_type": "code",
     "collapsed": false,
     "input": [
      "df.dtypes"
     ],
     "language": "python",
     "metadata": {},
     "outputs": [
      {
       "metadata": {},
       "output_type": "pyout",
       "prompt_number": 24,
       "text": [
        "spam              int64\n",
        "to_multiple       int64\n",
        "from              int64\n",
        "cc                int64\n",
        "sent_email        int64\n",
        "time             object\n",
        "image             int64\n",
        "attach            int64\n",
        "dollar            int64\n",
        "winner           object\n",
        "inherit           int64\n",
        "viagra            int64\n",
        "password          int64\n",
        "num_char        float64\n",
        "line_breaks       int64\n",
        "format            int64\n",
        "re_subj           int64\n",
        "exclaim_subj      int64\n",
        "urgent_subj       int64\n",
        "exclaim_mess      int64\n",
        "number           object\n",
        "dtype: object"
       ]
      }
     ],
     "prompt_number": 24
    },
    {
     "cell_type": "markdown",
     "metadata": {},
     "source": [
      "Print the values of the num_char variable. Hint: in order to select a variable from a data base use df.variable or df['variable']."
     ]
    },
    {
     "cell_type": "code",
     "collapsed": false,
     "input": [
      "df['num_char']"
     ],
     "language": "python",
     "metadata": {},
     "outputs": [
      {
       "metadata": {},
       "output_type": "pyout",
       "prompt_number": 25,
       "text": [
        "0     11.370\n",
        "1     10.504\n",
        "2      7.773\n",
        "3     13.256\n",
        "4      1.231\n",
        "5      1.091\n",
        "6      4.837\n",
        "7      7.421\n",
        "8      3.051\n",
        "9      2.643\n",
        "10     0.869\n",
        "11     4.020\n",
        "12    10.459\n",
        "13    15.075\n",
        "14    19.693\n",
        "...\n",
        "3906     0.073\n",
        "3907     0.015\n",
        "3908     0.249\n",
        "3909     0.341\n",
        "3910     2.402\n",
        "3911     1.055\n",
        "3912     0.819\n",
        "3913     1.597\n",
        "3914     0.333\n",
        "3915    14.584\n",
        "3916     0.332\n",
        "3917     0.323\n",
        "3918     8.656\n",
        "3919    10.185\n",
        "3920     2.225\n",
        "Name: num_char, Length: 3921, dtype: float64"
       ]
      }
     ],
     "prompt_number": 25
    },
    {
     "cell_type": "markdown",
     "metadata": {},
     "source": [
      "Use  .describe() to get a summary on num_char"
     ]
    },
    {
     "cell_type": "code",
     "collapsed": false,
     "input": [
      "df['num_char'].describe()"
     ],
     "language": "python",
     "metadata": {},
     "outputs": [
      {
       "metadata": {},
       "output_type": "pyout",
       "prompt_number": 28,
       "text": [
        "count    3921.000000\n",
        "mean       10.706586\n",
        "std        14.645786\n",
        "min         0.001000\n",
        "25%         1.459000\n",
        "50%         5.856000\n",
        "75%        14.084000\n",
        "max       190.087000\n",
        "dtype: float64"
       ]
      }
     ],
     "prompt_number": 28
    },
    {
     "cell_type": "markdown",
     "metadata": {},
     "source": [
      "Use plt.scatter() to plot the scatter plot of num_char and line_breaks"
     ]
    },
    {
     "cell_type": "code",
     "collapsed": false,
     "input": [
      "x = df['line_breaks']\n",
      "y = df['num_char']\n",
      "plt.scatter(x,y,s=80)"
     ],
     "language": "python",
     "metadata": {},
     "outputs": [
      {
       "metadata": {},
       "output_type": "pyout",
       "prompt_number": 31,
       "text": [
        "<matplotlib.collections.PathCollection at 0x7f21c1368410>"
       ]
      },
      {
       "metadata": {},
       "output_type": "display_data",
       "png": "[encoded data removed]",
       "text": [
        "<matplotlib.figure.Figure at 0x7f21c1443f10>"
       ]
      }
     ],
     "prompt_number": 31
    },
    {
     "cell_type": "markdown",
     "metadata": {},
     "source": [
      "Describe the relationship between the two variables."
     ]
    },
    {
     "cell_type": "code",
     "collapsed": false,
     "input": [],
     "language": "python",
     "metadata": {},
     "outputs": [],
     "prompt_number": 15
    },
    {
     "cell_type": "markdown",
     "metadata": {},
     "source": [
      "Use  .hist() to get a histogram on num_char"
     ]
    },
    {
     "cell_type": "code",
     "collapsed": false,
     "input": [
      "df['num_char'].hist()"
     ],
     "language": "python",
     "metadata": {},
     "outputs": [
      {
       "metadata": {},
       "output_type": "pyout",
       "prompt_number": 32,
       "text": [
        "<matplotlib.axes.AxesSubplot at 0x7f21c1cca950>"
       ]
      },
      {
       "metadata": {},
       "output_type": "display_data",
       "png": "[encoded data removed]",
       "text": [
        "<matplotlib.figure.Figure at 0x7f21c12b9710>"
       ]
      }
     ],
     "prompt_number": 32
    },
    {
     "cell_type": "markdown",
     "metadata": {},
     "source": [
      "Take the log of num_char, by using np.log "
     ]
    },
    {
     "cell_type": "code",
     "collapsed": false,
     "input": [
      "l= np.log(df['num_char'])\n",
      "#l"
     ],
     "language": "python",
     "metadata": {},
     "outputs": [],
     "prompt_number": 35
    },
    {
     "cell_type": "markdown",
     "metadata": {},
     "source": [
      "Produce a histogram of the log values"
     ]
    },
    {
     "cell_type": "code",
     "collapsed": false,
     "input": [
      "l.hist()"
     ],
     "language": "python",
     "metadata": {},
     "outputs": [
      {
       "metadata": {},
       "output_type": "pyout",
       "prompt_number": 36,
       "text": [
        "<matplotlib.axes.AxesSubplot at 0x7f21c12ee590>"
       ]
      },
      {
       "metadata": {},
       "output_type": "display_data",
       "png": "[encoded data removed]",
       "text": [
        "<matplotlib.figure.Figure at 0x7f21c12dd910>"
       ]
      }
     ],
     "prompt_number": 36
    },
    {
     "cell_type": "markdown",
     "metadata": {},
     "source": [
      "Add the option normed=True in .hist to take a normalised historgram"
     ]
    },
    {
     "cell_type": "code",
     "collapsed": false,
     "input": [
      "logdist = l.hist(normed=True)"
     ],
     "language": "python",
     "metadata": {},
     "outputs": [
      {
       "metadata": {},
       "output_type": "display_data",
       "png": "[encoded data removed]",
       "text": [
        "<matplotlib.figure.Figure at 0x7f21c10ec4d0>"
       ]
      }
     ],
     "prompt_number": 38
    },
    {
     "cell_type": "markdown",
     "metadata": {},
     "source": [
      "Describe the distribution of log(num_char)"
     ]
    },
    {
     "cell_type": "code",
     "collapsed": false,
     "input": [
      "np.log(df['num_char']).describe()"
     ],
     "language": "python",
     "metadata": {},
     "outputs": [
      {
       "metadata": {},
       "output_type": "pyout",
       "prompt_number": 47,
       "text": [
        "count    3921.000000\n",
        "mean        1.513831\n",
        "std         1.520385\n",
        "min        -6.907755\n",
        "25%         0.377751\n",
        "50%         1.767467\n",
        "75%         2.645039\n",
        "max         5.247482\n",
        "dtype: float64"
       ]
      }
     ],
     "prompt_number": 47
    },
    {
     "cell_type": "markdown",
     "metadata": {},
     "source": [
      "Use .plot(kind='kde') to get a fitted distribution of log(num_char)"
     ]
    },
    {
     "cell_type": "code",
     "collapsed": false,
     "input": [
      "fit= l.plot(kind='kde')"
     ],
     "language": "python",
     "metadata": {},
     "outputs": [
      {
       "metadata": {},
       "output_type": "display_data",
       "png": "[encoded data removed]",
       "text": [
        "<matplotlib.figure.Figure at 0x7f21c0d67610>"
       ]
      }
     ],
     "prompt_number": 44
    },
    {
     "cell_type": "markdown",
     "metadata": {},
     "source": [
      "Put the histogram and the fitted distribution code to see a combined graph."
     ]
    },
    {
     "cell_type": "code",
     "collapsed": false,
     "input": [
      "#df.apply(df['num_char'].hist())\n",
      "#df.apply(np.log(df['num_char']).plot(kind='kde'))\n",
      "plt.hist(l,normed=True)\n",
      "l.plot(kind='kde')\n",
      "plt.show()"
     ],
     "language": "python",
     "metadata": {},
     "outputs": [
      {
       "metadata": {},
       "output_type": "display_data",
       "png": "[encoded data removed]",
       "text": [
        "<matplotlib.figure.Figure at 0x7f21c0898ad0>"
       ]
      }
     ],
     "prompt_number": 53
    },
    {
     "cell_type": "markdown",
     "metadata": {},
     "source": [
      "Use stats.probplot(Variable,plot=pylab) to make the probability graph of log(num_char)."
     ]
    },
    {
     "cell_type": "code",
     "collapsed": false,
     "input": [
      "stats.probplot(log(df['num_char']),plot=pylab)"
     ],
     "language": "python",
     "metadata": {},
     "outputs": [
      {
       "metadata": {},
       "output_type": "pyout",
       "prompt_number": 49,
       "text": [
        "((array([-3.57254769, -3.33333369, -3.20128822, ...,  3.20128822,\n",
        "          3.33333369,  3.57254769]),\n",
        "  array([-6.90775528, -6.90775528, -5.80914299, ...,  5.10499351,\n",
        "          5.15880239,  5.24748186])),\n",
        " (1.4958225738512727, 1.5138307109734415, 0.98315433157784171))"
       ]
      },
      {
       "metadata": {},
       "output_type": "display_data",
       "png": "[encoded data removed]",
       "text": [
        "<matplotlib.figure.Figure at 0x7f21c0a18650>"
       ]
      }
     ],
     "prompt_number": 49
    },
    {
     "cell_type": "markdown",
     "metadata": {},
     "source": [
      "Is log(num_char) normaly distributed? Justify your answer."
     ]
    },
    {
     "cell_type": "code",
     "collapsed": false,
     "input": [
      "#prob has to be linear if the log(char) is normal distributed see above\n",
      "mean = 0\n",
      "variance = 1\n",
      "sigma = math.sqrt(variance)\n",
      "x = np.linspace(-3,3,100)\n",
      "plt.plot(x,mlab.normpdf(x,mean,sigma))"
     ],
     "language": "python",
     "metadata": {},
     "outputs": [
      {
       "metadata": {},
       "output_type": "pyout",
       "prompt_number": 51,
       "text": [
        "[<matplotlib.lines.Line2D at 0x7f21c0c81150>]"
       ]
      },
      {
       "metadata": {},
       "output_type": "display_data",
       "png": "[encoded data removed]",
       "text": [
        "<matplotlib.figure.Figure at 0x7f21c0a3ed90>"
       ]
      }
     ],
     "prompt_number": 51
    },
    {
     "cell_type": "markdown",
     "metadata": {},
     "source": [
      "Produce a frequency table for the number of spam and no spam emails using .value_counts(). \n",
      "Name it spam_freq."
     ]
    },
    {
     "cell_type": "code",
     "collapsed": false,
     "input": [
      "spam_freq = df['spam'].value_counts()"
     ],
     "language": "python",
     "metadata": {},
     "outputs": [
      {
       "metadata": {},
       "output_type": "pyout",
       "prompt_number": 54,
       "text": [
        "0    3554\n",
        "1     367\n",
        "dtype: int64"
       ]
      }
     ],
     "prompt_number": 54
    },
    {
     "cell_type": "markdown",
     "metadata": {},
     "source": [
      "Produce a bar plot of the previous results by using .plot(kind='bar')"
     ]
    },
    {
     "cell_type": "code",
     "collapsed": false,
     "input": [
      "(df['spam'].value_counts()).plot(kind='bar')"
     ],
     "language": "python",
     "metadata": {},
     "outputs": [
      {
       "metadata": {},
       "output_type": "pyout",
       "prompt_number": 57,
       "text": [
        "<matplotlib.axes.AxesSubplot at 0x7f21c09b6ed0>"
       ]
      },
      {
       "metadata": {},
       "output_type": "display_data",
       "png": "[encoded data removed]",
       "text": [
        "<matplotlib.figure.Figure at 0x7f21c0a3d710>"
       ]
      }
     ],
     "prompt_number": 57
    },
    {
     "cell_type": "markdown",
     "metadata": {},
     "source": [
      "Produce a pivot table for spam and number variables using pd.crosstab(Variable1,Variable2) and name it pivot_table."
     ]
    },
    {
     "cell_type": "raw",
     "metadata": {},
     "source": []
    },
    {
     "cell_type": "code",
     "collapsed": false,
     "input": [
      "pivot_table = pd.crosstab(df['spam'],df['number'])"
     ],
     "language": "python",
     "metadata": {},
     "outputs": [],
     "prompt_number": 63
    },
    {
     "cell_type": "markdown",
     "metadata": {},
     "source": [
      "Produce a bar plot for the table"
     ]
    },
    {
     "cell_type": "code",
     "collapsed": false,
     "input": [
      "pd.crosstab(df['spam'],df['number']).plot(kind='bar')"
     ],
     "language": "python",
     "metadata": {},
     "outputs": [
      {
       "metadata": {},
       "output_type": "pyout",
       "prompt_number": 60,
       "text": [
        "<matplotlib.axes.AxesSubplot at 0x7f21c09239d0>"
       ]
      },
      {
       "metadata": {},
       "output_type": "display_data",
       "png": "[encoded data removed]",
       "text": [
        "<matplotlib.figure.Figure at 0x7f21c0954050>"
       ]
      }
     ],
     "prompt_number": 60
    },
    {
     "cell_type": "markdown",
     "metadata": {},
     "source": [
      "Produce frequency table by normalising the columns, i.e. use 'Name of your talbe'.div('Name of your talbe'.sum(1).astype(float),axis=0), and name it pivot_freq."
     ]
    },
    {
     "cell_type": "code",
     "collapsed": false,
     "input": [
      "pivot_freq = pivot_table.div(pivot_table.sum(1).astype(float),axis=0)\n",
      "pivot_freq"
     ],
     "language": "python",
     "metadata": {},
     "outputs": [
      {
       "html": [
        "<div style=\"max-height:1000px;max-width:1500px;overflow:auto;\">\n",
        "<table border=\"1\" class=\"dataframe\">\n",
        "  <thead>\n",
        "    <tr style=\"text-align: right;\">\n",
        "      <th>number</th>\n",
        "      <th>big</th>\n",
        "      <th>none</th>\n",
        "      <th>small</th>\n",
        "    </tr>\n",
        "    <tr>\n",
        "      <th>spam</th>\n",
        "      <th></th>\n",
        "      <th></th>\n",
        "      <th></th>\n",
        "    </tr>\n",
        "  </thead>\n",
        "  <tbody>\n",
        "    <tr>\n",
        "      <th>0</th>\n",
        "      <td> 0.13928</td>\n",
        "      <td> 0.112549</td>\n",
        "      <td> 0.748171</td>\n",
        "    </tr>\n",
        "    <tr>\n",
        "      <th>1</th>\n",
        "      <td> 0.13624</td>\n",
        "      <td> 0.405995</td>\n",
        "      <td> 0.457766</td>\n",
        "    </tr>\n",
        "  </tbody>\n",
        "</table>\n",
        "</div>"
       ],
       "metadata": {},
       "output_type": "pyout",
       "prompt_number": 65,
       "text": [
        "number      big      none     small\n",
        "spam                               \n",
        "0       0.13928  0.112549  0.748171\n",
        "1       0.13624  0.405995  0.457766"
       ]
      }
     ],
     "prompt_number": 65
    },
    {
     "cell_type": "markdown",
     "metadata": {},
     "source": [
      "Produce a bar plot from the frequency table."
     ]
    },
    {
     "cell_type": "code",
     "collapsed": false,
     "input": [
      "pivot_freq.plot(kind='bar')"
     ],
     "language": "python",
     "metadata": {},
     "outputs": [
      {
       "metadata": {},
       "output_type": "pyout",
       "prompt_number": 66,
       "text": [
        "<matplotlib.axes.AxesSubplot at 0x7f21c0888dd0>"
       ]
      },
      {
       "metadata": {},
       "output_type": "display_data",
       "png": "[encoded data removed]",
       "text": [
        "<matplotlib.figure.Figure at 0x7f21c0899150>"
       ]
      }
     ],
     "prompt_number": 66
    },
    {
     "cell_type": "markdown",
     "metadata": {},
     "source": [
      "Add stacked=True to the arguments of the barplot. Compare the graphs."
     ]
    },
    {
     "cell_type": "code",
     "collapsed": false,
     "input": [
      "pivot_freq.plot(kind='bar',stacked=True)"
     ],
     "language": "python",
     "metadata": {},
     "outputs": [
      {
       "metadata": {},
       "output_type": "pyout",
       "prompt_number": 67,
       "text": [
        "<matplotlib.axes.AxesSubplot at 0x7f21c06cefd0>"
       ]
      },
      {
       "metadata": {},
       "output_type": "display_data",
       "png": "[encoded data removed]",
       "text": [
        "<matplotlib.figure.Figure at 0x7f21c06d8e50>"
       ]
      }
     ],
     "prompt_number": 67
    },
    {
     "cell_type": "code",
     "collapsed": false,
     "input": [],
     "language": "python",
     "metadata": {},
     "outputs": []
    }
   ],
   "metadata": {}
  }
 ]
}